{
  "nbformat": 4,
  "nbformat_minor": 0,
  "metadata": {
    "colab": {
      "name": "14기 Scikit-Learn 수업!의 사본",
      "provenance": [],
      "collapsed_sections": [],
      "include_colab_link": true
    },
    "kernelspec": {
      "name": "python3",
      "display_name": "Python 3"
    }
  },
  "cells": [
    {
      "cell_type": "markdown",
      "metadata": {
        "id": "view-in-github",
        "colab_type": "text"
      },
      "source": [
        "<a href=\"https://colab.research.google.com/github/HeileyP/Kaggle/blob/main/iris.ipynb\" target=\"_parent\"><img src=\"https://colab.research.google.com/assets/colab-badge.svg\" alt=\"Open In Colab\"/></a>"
      ]
    },
    {
      "cell_type": "markdown",
      "metadata": {
        "id": "9tvYKGTAKBzj"
      },
      "source": [
        "<img src='https://ifh.cc/g/fx7Kp2.png' width=\"800px;\" border='0'>"
      ]
    },
    {
      "cell_type": "markdown",
      "metadata": {
        "id": "Wgvz6eozxPWi"
      },
      "source": [
        "# **🔥Scikit-Learn: 파이썬 기계학습 라이브러리**"
      ]
    },
    {
      "cell_type": "markdown",
      "metadata": {
        "id": "gaa4DzSdvYti"
      },
      "source": [
        "<img src='https://ifh.cc/g/VfqO4P.jpg' border='0'>"
      ]
    },
    {
      "cell_type": "markdown",
      "metadata": {
        "id": "5ho92bptsaPu"
      },
      "source": [
        "# ⛳ **무엇을 배우나요?** 〰 Scikit Learn 💻📖🔍"
      ]
    },
    {
      "cell_type": "markdown",
      "metadata": {
        "id": "WMLmfSZjhciK"
      },
      "source": [
        "<img src='https://ifh.cc/g/at7WCv.jpg' width=\"1000px;\" border='0'>\n",
        "\n",
        "## **개요**\n",
        "\n",
        "<img src='https://ifh.cc/g/vZbaJH.png' width=\"250px;\" border='0'>\n",
        "\n",
        "</br>  \n",
        "\n",
        "싸이킷런은 파이썬 기반 범용 오픈 소스 라이브러리(툴)로서,  \n",
        "다양한 기계학습 알고리즘 적용(데이터 분석)을 위한 기능들을 포함하고 있습니다.\n",
        "\n",
        "</br>\n",
        "</br>"
      ]
    },
    {
      "cell_type": "markdown",
      "metadata": {
        "id": "-SA5we5VHr3f"
      },
      "source": [
        "**🧐 scikit-learn 홈페이지에 들어가서 얼마나 다양한 것들을 할 수 있는지 둘러볼까요?**\n",
        "\n",
        "👉 https://scikit-learn.org/stable/\n",
        "\n",
        "</br>\n",
        "</br>\n",
        "\n",
        "<img src='https://ifh.cc/g/SR7Gyb.png' border='0'>\n",
        "\n",
        "</br>"
      ]
    },
    {
      "cell_type": "markdown",
      "metadata": {
        "id": "KIdVN7qAtEz7"
      },
      "source": [
        "<img src='https://ifh.cc/g/IGvnbQ.jpg' border='0'>"
      ]
    },
    {
      "cell_type": "markdown",
      "metadata": {
        "id": "Ndaydb-Thj9d"
      },
      "source": [
        "##💬 **scikit-learn 머신러닝(지도학습)을 위해 꼭 필요한 3가지 조건**\n",
        "\n",
        "우리는 머신러닝에서 주로 **지도학습**, 즉 **supervised learning** 을 다룰 겁니다.  \n",
        "그러기 위해 필요한 3가지는  \n",
        "\n",
        "📌Step1. [feature1, feature 2 ...... , target] 에서 n개의 feature(X) 와 1개의 target(Y) 분리  \n",
        "\n",
        "📌Step2. 데이터 인코딩 (*모든 입/출력값은 '숫자' 로 되어있어야 한다!)  \n",
        "\n",
        "📌Step3. test set과 train set 분리"
      ]
    },
    {
      "cell_type": "markdown",
      "metadata": {
        "id": "74TonuxwtGmx"
      },
      "source": [
        "<img src='https://ifh.cc/g/IGvnbQ.jpg' border='0'>"
      ]
    },
    {
      "cell_type": "markdown",
      "metadata": {
        "id": "sSJpLFLniaw1"
      },
      "source": [
        "### 📌 **Step1. Feature(X) 와 Target(Y) 분리**\n",
        "\n",
        "머신러닝 지도학습은 feature(X) 값들을 사용하여 target(Y) 값을 예측하도록 학습합니다.  \n",
        "만약 데이터의 **어떤 부분이 feature 이고 어떤 부분이 target 인지** 명확하게 구분을 해놓지 않는다면 학습이 안되겠죠?\n",
        "\n",
        "<img src = \"https://1.bp.blogspot.com/-T26D5I27FkA/XoF9dMBin7I/AAAAAAAAAOY/Gao09-IsQkcjlUdNIcb8aJEDdNG3pQY2QCLcBGAsYHQ/s1600/%25E1%2584%258F%25E1%2585%25A2%25E1%2586%25B8%25E1%2584%258E%25E1%2585%25A51.JPG\" width = \"800\">\n",
        "\n",
        "\n",
        "\n",
        "\n"
      ]
    },
    {
      "cell_type": "code",
      "metadata": {
        "id": "gaAmDKtvk7py"
      },
      "source": [
        "import seaborn as sns"
      ],
      "execution_count": null,
      "outputs": []
    },
    {
      "cell_type": "markdown",
      "metadata": {
        "id": "MfL57gbDmJNU"
      },
      "source": [
        "\n",
        "\n",
        "---\n",
        "\n",
        "\n",
        "> 아래의 titanic_dataset을 살펴보고 어떤 열(column)이 feature(X)이고 target(Y)이 될까요?  \n",
        "> 👋 손들고 답을 말해볼까요?\n",
        "> ```\n",
        ">```"
      ]
    },
    {
      "cell_type": "code",
      "metadata": {
        "id": "5Xn_6zGeid9F",
        "colab": {
          "base_uri": "https://localhost:8080/",
          "height": 222
        },
        "outputId": "bc401c4d-d2cc-4c33-8130-8f8abe536beb"
      },
      "source": [
        "titanic = sns.load_dataset('titanic')\n",
        "titanic.head()"
      ],
      "execution_count": null,
      "outputs": [
        {
          "output_type": "execute_result",
          "data": {
            "text/html": [
              "<div>\n",
              "<style scoped>\n",
              "    .dataframe tbody tr th:only-of-type {\n",
              "        vertical-align: middle;\n",
              "    }\n",
              "\n",
              "    .dataframe tbody tr th {\n",
              "        vertical-align: top;\n",
              "    }\n",
              "\n",
              "    .dataframe thead th {\n",
              "        text-align: right;\n",
              "    }\n",
              "</style>\n",
              "<table border=\"1\" class=\"dataframe\">\n",
              "  <thead>\n",
              "    <tr style=\"text-align: right;\">\n",
              "      <th></th>\n",
              "      <th>survived</th>\n",
              "      <th>pclass</th>\n",
              "      <th>sex</th>\n",
              "      <th>age</th>\n",
              "      <th>sibsp</th>\n",
              "      <th>parch</th>\n",
              "      <th>fare</th>\n",
              "      <th>embarked</th>\n",
              "      <th>class</th>\n",
              "      <th>who</th>\n",
              "      <th>adult_male</th>\n",
              "      <th>deck</th>\n",
              "      <th>embark_town</th>\n",
              "      <th>alive</th>\n",
              "      <th>alone</th>\n",
              "    </tr>\n",
              "  </thead>\n",
              "  <tbody>\n",
              "    <tr>\n",
              "      <th>0</th>\n",
              "      <td>0</td>\n",
              "      <td>3</td>\n",
              "      <td>male</td>\n",
              "      <td>22.0</td>\n",
              "      <td>1</td>\n",
              "      <td>0</td>\n",
              "      <td>7.2500</td>\n",
              "      <td>S</td>\n",
              "      <td>Third</td>\n",
              "      <td>man</td>\n",
              "      <td>True</td>\n",
              "      <td>NaN</td>\n",
              "      <td>Southampton</td>\n",
              "      <td>no</td>\n",
              "      <td>False</td>\n",
              "    </tr>\n",
              "    <tr>\n",
              "      <th>1</th>\n",
              "      <td>1</td>\n",
              "      <td>1</td>\n",
              "      <td>female</td>\n",
              "      <td>38.0</td>\n",
              "      <td>1</td>\n",
              "      <td>0</td>\n",
              "      <td>71.2833</td>\n",
              "      <td>C</td>\n",
              "      <td>First</td>\n",
              "      <td>woman</td>\n",
              "      <td>False</td>\n",
              "      <td>C</td>\n",
              "      <td>Cherbourg</td>\n",
              "      <td>yes</td>\n",
              "      <td>False</td>\n",
              "    </tr>\n",
              "    <tr>\n",
              "      <th>2</th>\n",
              "      <td>1</td>\n",
              "      <td>3</td>\n",
              "      <td>female</td>\n",
              "      <td>26.0</td>\n",
              "      <td>0</td>\n",
              "      <td>0</td>\n",
              "      <td>7.9250</td>\n",
              "      <td>S</td>\n",
              "      <td>Third</td>\n",
              "      <td>woman</td>\n",
              "      <td>False</td>\n",
              "      <td>NaN</td>\n",
              "      <td>Southampton</td>\n",
              "      <td>yes</td>\n",
              "      <td>True</td>\n",
              "    </tr>\n",
              "    <tr>\n",
              "      <th>3</th>\n",
              "      <td>1</td>\n",
              "      <td>1</td>\n",
              "      <td>female</td>\n",
              "      <td>35.0</td>\n",
              "      <td>1</td>\n",
              "      <td>0</td>\n",
              "      <td>53.1000</td>\n",
              "      <td>S</td>\n",
              "      <td>First</td>\n",
              "      <td>woman</td>\n",
              "      <td>False</td>\n",
              "      <td>C</td>\n",
              "      <td>Southampton</td>\n",
              "      <td>yes</td>\n",
              "      <td>False</td>\n",
              "    </tr>\n",
              "    <tr>\n",
              "      <th>4</th>\n",
              "      <td>0</td>\n",
              "      <td>3</td>\n",
              "      <td>male</td>\n",
              "      <td>35.0</td>\n",
              "      <td>0</td>\n",
              "      <td>0</td>\n",
              "      <td>8.0500</td>\n",
              "      <td>S</td>\n",
              "      <td>Third</td>\n",
              "      <td>man</td>\n",
              "      <td>True</td>\n",
              "      <td>NaN</td>\n",
              "      <td>Southampton</td>\n",
              "      <td>no</td>\n",
              "      <td>True</td>\n",
              "    </tr>\n",
              "  </tbody>\n",
              "</table>\n",
              "</div>"
            ],
            "text/plain": [
              "   survived  pclass     sex   age  ...  deck  embark_town  alive  alone\n",
              "0         0       3    male  22.0  ...   NaN  Southampton     no  False\n",
              "1         1       1  female  38.0  ...     C    Cherbourg    yes  False\n",
              "2         1       3  female  26.0  ...   NaN  Southampton    yes   True\n",
              "3         1       1  female  35.0  ...     C  Southampton    yes  False\n",
              "4         0       3    male  35.0  ...   NaN  Southampton     no   True\n",
              "\n",
              "[5 rows x 15 columns]"
            ]
          },
          "metadata": {},
          "execution_count": 2
        }
      ]
    },
    {
      "cell_type": "markdown",
      "metadata": {
        "id": "Us2LVhmos_Q6"
      },
      "source": [
        "</br>"
      ]
    },
    {
      "cell_type": "markdown",
      "metadata": {
        "id": "lTDAJvez9dZn"
      },
      "source": [
        "<img src='https://ifh.cc/g/B2hVe7.png' width=\"330px;\" height=\"70px;\" border='0'>"
      ]
    },
    {
      "cell_type": "markdown",
      "metadata": {
        "id": "mIFq7hMXeiXw"
      },
      "source": [
        "🔍 아래 mpg_dataset 에서도 한 번 feature와 target을 구분해볼까요? \n",
        "\n",
        "<img src='https://ifh.cc/g/4Me4qI.jpg' width=\"400px;\" height=\"300px;\" border='0'>\n",
        "\n",
        "> **mpg 데이터셋 설명**\n",
        "- mpg(miles per gallon) = 연비  \n",
        "- cylinders = 실린더 개수   \n",
        "- displacement = 배기량  \n",
        "- horsepower = 마력  \n",
        "- weight = 무게  \n",
        "- acceleration = 테이블당 사람 수  \n",
        "- model_year = 생산년도  \n",
        "- origin = 생산국  \n",
        "- name = 자동차 모델명  \n"
      ]
    },
    {
      "cell_type": "code",
      "metadata": {
        "id": "qN0N9eeNlX7o",
        "colab": {
          "base_uri": "https://localhost:8080/",
          "height": 202
        },
        "outputId": "94c57d37-bd61-4141-8d6b-35cc00a05df3"
      },
      "source": [
        "mpg = sns.load_dataset('mpg')\n",
        "mpg.head()"
      ],
      "execution_count": null,
      "outputs": [
        {
          "output_type": "execute_result",
          "data": {
            "text/html": [
              "<div>\n",
              "<style scoped>\n",
              "    .dataframe tbody tr th:only-of-type {\n",
              "        vertical-align: middle;\n",
              "    }\n",
              "\n",
              "    .dataframe tbody tr th {\n",
              "        vertical-align: top;\n",
              "    }\n",
              "\n",
              "    .dataframe thead th {\n",
              "        text-align: right;\n",
              "    }\n",
              "</style>\n",
              "<table border=\"1\" class=\"dataframe\">\n",
              "  <thead>\n",
              "    <tr style=\"text-align: right;\">\n",
              "      <th></th>\n",
              "      <th>mpg</th>\n",
              "      <th>cylinders</th>\n",
              "      <th>displacement</th>\n",
              "      <th>horsepower</th>\n",
              "      <th>weight</th>\n",
              "      <th>acceleration</th>\n",
              "      <th>model_year</th>\n",
              "      <th>origin</th>\n",
              "      <th>name</th>\n",
              "    </tr>\n",
              "  </thead>\n",
              "  <tbody>\n",
              "    <tr>\n",
              "      <th>0</th>\n",
              "      <td>18.0</td>\n",
              "      <td>8</td>\n",
              "      <td>307.0</td>\n",
              "      <td>130.0</td>\n",
              "      <td>3504</td>\n",
              "      <td>12.0</td>\n",
              "      <td>70</td>\n",
              "      <td>usa</td>\n",
              "      <td>chevrolet chevelle malibu</td>\n",
              "    </tr>\n",
              "    <tr>\n",
              "      <th>1</th>\n",
              "      <td>15.0</td>\n",
              "      <td>8</td>\n",
              "      <td>350.0</td>\n",
              "      <td>165.0</td>\n",
              "      <td>3693</td>\n",
              "      <td>11.5</td>\n",
              "      <td>70</td>\n",
              "      <td>usa</td>\n",
              "      <td>buick skylark 320</td>\n",
              "    </tr>\n",
              "    <tr>\n",
              "      <th>2</th>\n",
              "      <td>18.0</td>\n",
              "      <td>8</td>\n",
              "      <td>318.0</td>\n",
              "      <td>150.0</td>\n",
              "      <td>3436</td>\n",
              "      <td>11.0</td>\n",
              "      <td>70</td>\n",
              "      <td>usa</td>\n",
              "      <td>plymouth satellite</td>\n",
              "    </tr>\n",
              "    <tr>\n",
              "      <th>3</th>\n",
              "      <td>16.0</td>\n",
              "      <td>8</td>\n",
              "      <td>304.0</td>\n",
              "      <td>150.0</td>\n",
              "      <td>3433</td>\n",
              "      <td>12.0</td>\n",
              "      <td>70</td>\n",
              "      <td>usa</td>\n",
              "      <td>amc rebel sst</td>\n",
              "    </tr>\n",
              "    <tr>\n",
              "      <th>4</th>\n",
              "      <td>17.0</td>\n",
              "      <td>8</td>\n",
              "      <td>302.0</td>\n",
              "      <td>140.0</td>\n",
              "      <td>3449</td>\n",
              "      <td>10.5</td>\n",
              "      <td>70</td>\n",
              "      <td>usa</td>\n",
              "      <td>ford torino</td>\n",
              "    </tr>\n",
              "  </tbody>\n",
              "</table>\n",
              "</div>"
            ],
            "text/plain": [
              "    mpg  cylinders  displacement  ...  model_year  origin                       name\n",
              "0  18.0          8         307.0  ...          70     usa  chevrolet chevelle malibu\n",
              "1  15.0          8         350.0  ...          70     usa          buick skylark 320\n",
              "2  18.0          8         318.0  ...          70     usa         plymouth satellite\n",
              "3  16.0          8         304.0  ...          70     usa              amc rebel sst\n",
              "4  17.0          8         302.0  ...          70     usa                ford torino\n",
              "\n",
              "[5 rows x 9 columns]"
            ]
          },
          "metadata": {},
          "execution_count": 3
        }
      ]
    },
    {
      "cell_type": "markdown",
      "metadata": {
        "id": "7kO9eKOhcZHD"
      },
      "source": [
        "> 😅😅 위 데이터셋들은 target 열이 따로 정해져 있지 않습니다 💦   \n",
        "**'여러분(데이터 사이언티스트🤓)이 정하기 나름대로'**  \n",
        "🧡유의미한 데이터가 될 수도, 💔무의미한 데이터가 될 수도 있습니다!\n"
      ]
    },
    {
      "cell_type": "markdown",
      "metadata": {
        "id": "7-Z-YXoom2AQ"
      },
      "source": [
        "\n",
        "\n",
        "---\n",
        "\n"
      ]
    },
    {
      "cell_type": "code",
      "metadata": {
        "colab": {
          "base_uri": "https://localhost:8080/",
          "height": 141
        },
        "id": "MvrkkmANmQ_w",
        "outputId": "99996914-78b9-41e4-8252-92c0455edf38"
      },
      "source": [
        "iris = sns.load_dataset('iris')\n",
        "iris.head(3)"
      ],
      "execution_count": null,
      "outputs": [
        {
          "output_type": "execute_result",
          "data": {
            "text/html": [
              "<div>\n",
              "<style scoped>\n",
              "    .dataframe tbody tr th:only-of-type {\n",
              "        vertical-align: middle;\n",
              "    }\n",
              "\n",
              "    .dataframe tbody tr th {\n",
              "        vertical-align: top;\n",
              "    }\n",
              "\n",
              "    .dataframe thead th {\n",
              "        text-align: right;\n",
              "    }\n",
              "</style>\n",
              "<table border=\"1\" class=\"dataframe\">\n",
              "  <thead>\n",
              "    <tr style=\"text-align: right;\">\n",
              "      <th></th>\n",
              "      <th>sepal_length</th>\n",
              "      <th>sepal_width</th>\n",
              "      <th>petal_length</th>\n",
              "      <th>petal_width</th>\n",
              "      <th>species</th>\n",
              "    </tr>\n",
              "  </thead>\n",
              "  <tbody>\n",
              "    <tr>\n",
              "      <th>0</th>\n",
              "      <td>5.1</td>\n",
              "      <td>3.5</td>\n",
              "      <td>1.4</td>\n",
              "      <td>0.2</td>\n",
              "      <td>setosa</td>\n",
              "    </tr>\n",
              "    <tr>\n",
              "      <th>1</th>\n",
              "      <td>4.9</td>\n",
              "      <td>3.0</td>\n",
              "      <td>1.4</td>\n",
              "      <td>0.2</td>\n",
              "      <td>setosa</td>\n",
              "    </tr>\n",
              "    <tr>\n",
              "      <th>2</th>\n",
              "      <td>4.7</td>\n",
              "      <td>3.2</td>\n",
              "      <td>1.3</td>\n",
              "      <td>0.2</td>\n",
              "      <td>setosa</td>\n",
              "    </tr>\n",
              "  </tbody>\n",
              "</table>\n",
              "</div>"
            ],
            "text/plain": [
              "   sepal_length  sepal_width  petal_length  petal_width species\n",
              "0           5.1          3.5           1.4          0.2  setosa\n",
              "1           4.9          3.0           1.4          0.2  setosa\n",
              "2           4.7          3.2           1.3          0.2  setosa"
            ]
          },
          "metadata": {},
          "execution_count": 7
        }
      ]
    },
    {
      "cell_type": "code",
      "metadata": {
        "id": "YVjTsWsvnbuW",
        "colab": {
          "base_uri": "https://localhost:8080/"
        },
        "outputId": "6b3854b2-0af2-4638-8044-e7d58fe1096f"
      },
      "source": [
        "# 나누기 \n",
        "species = iris['species'] # target\n",
        "iris_input = iris.drop('species', axis=1) # 'species'만 따로 drop해서 iris_input에 저장합니다.\n",
        "\n",
        "print(species)\n",
        "print(iris_input)"
      ],
      "execution_count": null,
      "outputs": [
        {
          "output_type": "stream",
          "name": "stdout",
          "text": [
            "0         setosa\n",
            "1         setosa\n",
            "2         setosa\n",
            "3         setosa\n",
            "4         setosa\n",
            "         ...    \n",
            "145    virginica\n",
            "146    virginica\n",
            "147    virginica\n",
            "148    virginica\n",
            "149    virginica\n",
            "Name: species, Length: 150, dtype: object\n",
            "     sepal_length  sepal_width  petal_length  petal_width\n",
            "0             5.1          3.5           1.4          0.2\n",
            "1             4.9          3.0           1.4          0.2\n",
            "2             4.7          3.2           1.3          0.2\n",
            "3             4.6          3.1           1.5          0.2\n",
            "4             5.0          3.6           1.4          0.2\n",
            "..            ...          ...           ...          ...\n",
            "145           6.7          3.0           5.2          2.3\n",
            "146           6.3          2.5           5.0          1.9\n",
            "147           6.5          3.0           5.2          2.0\n",
            "148           6.2          3.4           5.4          2.3\n",
            "149           5.9          3.0           5.1          1.8\n",
            "\n",
            "[150 rows x 4 columns]\n"
          ]
        }
      ]
    },
    {
      "cell_type": "markdown",
      "metadata": {
        "id": "fO-1sLTGvvg_"
      },
      "source": [
        "<img src='https://ifh.cc/g/IGvnbQ.jpg' border='0'>"
      ]
    },
    {
      "cell_type": "markdown",
      "metadata": {
        "id": "NXE5lohymRgy"
      },
      "source": [
        "### 📌 **Step2. 데이터 인코딩 (Encoding)**\n",
        "\n",
        "앞서 배운대로, 데이터는 크게 **2가지 형태**로 나뉩니다. **→ 수치형(Numerical) 또는 범주형(Categorical)**\n",
        "\n",
        "우리가 만들 머신러닝 모델들은 **범주형(Categorical) 데이터를 입력값으로 활용할 수 없습니다. 🙅‍♀️🙅‍♂️**\n",
        "\n",
        "🌟 따라서 '남자', '빨강', '사과' 등의 범주형 데이터(Categorical data)를 수치형 데이터(Numerical data)으로 변환해주는 **전처리 작업(preprocessing)**이 선행되어야 합니다. 🌟\n",
        "\n",
        "<img src='https://ifh.cc/g/eEzfDa.jpg' border='0'>\n"
      ]
    },
    {
      "cell_type": "markdown",
      "metadata": {
        "id": "3IqGYX_ASpdw"
      },
      "source": [
        "\n",
        "\n",
        "---\n",
        "\n"
      ]
    },
    {
      "cell_type": "markdown",
      "metadata": {
        "id": "y2mBDCSlYon9"
      },
      "source": [
        "💁‍♀️ 데이터 **인코딩(또는 전처리) 방법**은 **여러가지**가 있습니다.\n",
        "\n",
        "</br>\n",
        "\n",
        "<img src='https://ifh.cc/g/d9vP9u.png' width=\"480px;\" height=\"240px;\" border='0'>"
      ]
    },
    {
      "cell_type": "markdown",
      "metadata": {
        "id": "NjXZBHFbZaI4"
      },
      "source": [
        "\n",
        "\n",
        "---\n",
        "\n"
      ]
    },
    {
      "cell_type": "markdown",
      "metadata": {
        "id": "-4Ue7HOmsRmU"
      },
      "source": [
        "#### 1️⃣ **Pandas** 의 **map** 함수 이용하기 🔨\n",
        "\n",
        "</br>\n",
        "\n",
        "데이터 인코딩(또는 전처리) 방법의 첫 번째로, **map 함수를 이용하는 방법**입니다.  \n",
        "\n",
        "`map` 함수를 이용하면 pandas 데이터프레임 안에 있는 데이터를 python dictionary 형태에 맞게 변환해줍니다. \n",
        "\n",
        "tips_dataset을 통해 한 번 알아보겠습니다.\n",
        "\n",
        "\n"
      ]
    },
    {
      "cell_type": "markdown",
      "metadata": {
        "id": "SyA5mlQ-hQ_2"
      },
      "source": [
        "<img src='https://ifh.cc/g/EF9OLl.png' width=\"400px;\" border='0'>"
      ]
    },
    {
      "cell_type": "code",
      "metadata": {
        "id": "bOHKOMzHtEWV",
        "colab": {
          "base_uri": "https://localhost:8080/",
          "height": 202
        },
        "outputId": "09f60f01-3454-4cd0-db65-13a0438f528a"
      },
      "source": [
        "tips = sns.load_dataset('tips')\n",
        "tips.head()"
      ],
      "execution_count": null,
      "outputs": [
        {
          "output_type": "execute_result",
          "data": {
            "text/html": [
              "<div>\n",
              "<style scoped>\n",
              "    .dataframe tbody tr th:only-of-type {\n",
              "        vertical-align: middle;\n",
              "    }\n",
              "\n",
              "    .dataframe tbody tr th {\n",
              "        vertical-align: top;\n",
              "    }\n",
              "\n",
              "    .dataframe thead th {\n",
              "        text-align: right;\n",
              "    }\n",
              "</style>\n",
              "<table border=\"1\" class=\"dataframe\">\n",
              "  <thead>\n",
              "    <tr style=\"text-align: right;\">\n",
              "      <th></th>\n",
              "      <th>total_bill</th>\n",
              "      <th>tip</th>\n",
              "      <th>sex</th>\n",
              "      <th>smoker</th>\n",
              "      <th>day</th>\n",
              "      <th>time</th>\n",
              "      <th>size</th>\n",
              "    </tr>\n",
              "  </thead>\n",
              "  <tbody>\n",
              "    <tr>\n",
              "      <th>0</th>\n",
              "      <td>16.99</td>\n",
              "      <td>1.01</td>\n",
              "      <td>Female</td>\n",
              "      <td>No</td>\n",
              "      <td>Sun</td>\n",
              "      <td>Dinner</td>\n",
              "      <td>2</td>\n",
              "    </tr>\n",
              "    <tr>\n",
              "      <th>1</th>\n",
              "      <td>10.34</td>\n",
              "      <td>1.66</td>\n",
              "      <td>Male</td>\n",
              "      <td>No</td>\n",
              "      <td>Sun</td>\n",
              "      <td>Dinner</td>\n",
              "      <td>3</td>\n",
              "    </tr>\n",
              "    <tr>\n",
              "      <th>2</th>\n",
              "      <td>21.01</td>\n",
              "      <td>3.50</td>\n",
              "      <td>Male</td>\n",
              "      <td>No</td>\n",
              "      <td>Sun</td>\n",
              "      <td>Dinner</td>\n",
              "      <td>3</td>\n",
              "    </tr>\n",
              "    <tr>\n",
              "      <th>3</th>\n",
              "      <td>23.68</td>\n",
              "      <td>3.31</td>\n",
              "      <td>Male</td>\n",
              "      <td>No</td>\n",
              "      <td>Sun</td>\n",
              "      <td>Dinner</td>\n",
              "      <td>2</td>\n",
              "    </tr>\n",
              "    <tr>\n",
              "      <th>4</th>\n",
              "      <td>24.59</td>\n",
              "      <td>3.61</td>\n",
              "      <td>Female</td>\n",
              "      <td>No</td>\n",
              "      <td>Sun</td>\n",
              "      <td>Dinner</td>\n",
              "      <td>4</td>\n",
              "    </tr>\n",
              "  </tbody>\n",
              "</table>\n",
              "</div>"
            ],
            "text/plain": [
              "   total_bill   tip     sex smoker  day    time  size\n",
              "0       16.99  1.01  Female     No  Sun  Dinner     2\n",
              "1       10.34  1.66    Male     No  Sun  Dinner     3\n",
              "2       21.01  3.50    Male     No  Sun  Dinner     3\n",
              "3       23.68  3.31    Male     No  Sun  Dinner     2\n",
              "4       24.59  3.61  Female     No  Sun  Dinner     4"
            ]
          },
          "metadata": {},
          "execution_count": 9
        }
      ]
    },
    {
      "cell_type": "code",
      "metadata": {
        "id": "E7PakB5NtHQw",
        "colab": {
          "base_uri": "https://localhost:8080/",
          "height": 202
        },
        "outputId": "8f563e20-7b26-452b-d940-b0beb998944b"
      },
      "source": [
        "import pandas as pd\n",
        "# categorical data인 'sex(Female 또는 Male)'를 map 함수를 사용하여 인코딩(전처리) 해볼까요?\n",
        "tips['sex'] = tips['sex'].map({'Male':0, \"Female\":1})\n",
        "tips.head()"
      ],
      "execution_count": null,
      "outputs": [
        {
          "output_type": "execute_result",
          "data": {
            "text/html": [
              "<div>\n",
              "<style scoped>\n",
              "    .dataframe tbody tr th:only-of-type {\n",
              "        vertical-align: middle;\n",
              "    }\n",
              "\n",
              "    .dataframe tbody tr th {\n",
              "        vertical-align: top;\n",
              "    }\n",
              "\n",
              "    .dataframe thead th {\n",
              "        text-align: right;\n",
              "    }\n",
              "</style>\n",
              "<table border=\"1\" class=\"dataframe\">\n",
              "  <thead>\n",
              "    <tr style=\"text-align: right;\">\n",
              "      <th></th>\n",
              "      <th>total_bill</th>\n",
              "      <th>tip</th>\n",
              "      <th>sex</th>\n",
              "      <th>smoker</th>\n",
              "      <th>day</th>\n",
              "      <th>time</th>\n",
              "      <th>size</th>\n",
              "    </tr>\n",
              "  </thead>\n",
              "  <tbody>\n",
              "    <tr>\n",
              "      <th>0</th>\n",
              "      <td>16.99</td>\n",
              "      <td>1.01</td>\n",
              "      <td>1</td>\n",
              "      <td>No</td>\n",
              "      <td>Sun</td>\n",
              "      <td>Dinner</td>\n",
              "      <td>2</td>\n",
              "    </tr>\n",
              "    <tr>\n",
              "      <th>1</th>\n",
              "      <td>10.34</td>\n",
              "      <td>1.66</td>\n",
              "      <td>0</td>\n",
              "      <td>No</td>\n",
              "      <td>Sun</td>\n",
              "      <td>Dinner</td>\n",
              "      <td>3</td>\n",
              "    </tr>\n",
              "    <tr>\n",
              "      <th>2</th>\n",
              "      <td>21.01</td>\n",
              "      <td>3.50</td>\n",
              "      <td>0</td>\n",
              "      <td>No</td>\n",
              "      <td>Sun</td>\n",
              "      <td>Dinner</td>\n",
              "      <td>3</td>\n",
              "    </tr>\n",
              "    <tr>\n",
              "      <th>3</th>\n",
              "      <td>23.68</td>\n",
              "      <td>3.31</td>\n",
              "      <td>0</td>\n",
              "      <td>No</td>\n",
              "      <td>Sun</td>\n",
              "      <td>Dinner</td>\n",
              "      <td>2</td>\n",
              "    </tr>\n",
              "    <tr>\n",
              "      <th>4</th>\n",
              "      <td>24.59</td>\n",
              "      <td>3.61</td>\n",
              "      <td>1</td>\n",
              "      <td>No</td>\n",
              "      <td>Sun</td>\n",
              "      <td>Dinner</td>\n",
              "      <td>4</td>\n",
              "    </tr>\n",
              "  </tbody>\n",
              "</table>\n",
              "</div>"
            ],
            "text/plain": [
              "   total_bill   tip sex smoker  day    time  size\n",
              "0       16.99  1.01   1     No  Sun  Dinner     2\n",
              "1       10.34  1.66   0     No  Sun  Dinner     3\n",
              "2       21.01  3.50   0     No  Sun  Dinner     3\n",
              "3       23.68  3.31   0     No  Sun  Dinner     2\n",
              "4       24.59  3.61   1     No  Sun  Dinner     4"
            ]
          },
          "metadata": {},
          "execution_count": 10
        }
      ]
    },
    {
      "cell_type": "markdown",
      "metadata": {
        "id": "JpllBDw52oDN"
      },
      "source": [
        "</br>"
      ]
    },
    {
      "cell_type": "markdown",
      "metadata": {
        "id": "yddClMsS9nin"
      },
      "source": [
        "<img src='https://ifh.cc/g/B2hVe7.png' width=\"330px;\" height=\"70px;\" border='0'>"
      ]
    },
    {
      "cell_type": "markdown",
      "metadata": {
        "id": "JVgWxwuhtl9m"
      },
      "source": [
        "> 🔍 tips_dataset 내 categorical data 중, 'smoker'도 map 함수를 사용하여 numerical data로 변환해보세요!\n",
        "\n"
      ]
    },
    {
      "cell_type": "code",
      "metadata": {
        "colab": {
          "base_uri": "https://localhost:8080/"
        },
        "id": "BBvnjgfKoet4",
        "outputId": "59a613a4-5cab-42b7-9111-3cc6ba93c208"
      },
      "source": [
        "tips['smoker'].unique()"
      ],
      "execution_count": null,
      "outputs": [
        {
          "output_type": "execute_result",
          "data": {
            "text/plain": [
              "['No', 'Yes']\n",
              "Categories (2, object): ['No', 'Yes']"
            ]
          },
          "metadata": {},
          "execution_count": 13
        }
      ]
    },
    {
      "cell_type": "code",
      "metadata": {
        "id": "SDSlwdzttrlx",
        "colab": {
          "base_uri": "https://localhost:8080/",
          "height": 202
        },
        "outputId": "e80ed7be-6403-46da-9d27-f09d1c4361dc"
      },
      "source": [
        "## 여기에서!\n",
        "tips['smoker'] = tips['smoker'].map({'No':0, \"Yes\":1})\n",
        "tips.head()"
      ],
      "execution_count": null,
      "outputs": [
        {
          "output_type": "execute_result",
          "data": {
            "text/html": [
              "<div>\n",
              "<style scoped>\n",
              "    .dataframe tbody tr th:only-of-type {\n",
              "        vertical-align: middle;\n",
              "    }\n",
              "\n",
              "    .dataframe tbody tr th {\n",
              "        vertical-align: top;\n",
              "    }\n",
              "\n",
              "    .dataframe thead th {\n",
              "        text-align: right;\n",
              "    }\n",
              "</style>\n",
              "<table border=\"1\" class=\"dataframe\">\n",
              "  <thead>\n",
              "    <tr style=\"text-align: right;\">\n",
              "      <th></th>\n",
              "      <th>total_bill</th>\n",
              "      <th>tip</th>\n",
              "      <th>sex</th>\n",
              "      <th>smoker</th>\n",
              "      <th>day</th>\n",
              "      <th>time</th>\n",
              "      <th>size</th>\n",
              "    </tr>\n",
              "  </thead>\n",
              "  <tbody>\n",
              "    <tr>\n",
              "      <th>0</th>\n",
              "      <td>16.99</td>\n",
              "      <td>1.01</td>\n",
              "      <td>1</td>\n",
              "      <td>0</td>\n",
              "      <td>Sun</td>\n",
              "      <td>Dinner</td>\n",
              "      <td>2</td>\n",
              "    </tr>\n",
              "    <tr>\n",
              "      <th>1</th>\n",
              "      <td>10.34</td>\n",
              "      <td>1.66</td>\n",
              "      <td>0</td>\n",
              "      <td>0</td>\n",
              "      <td>Sun</td>\n",
              "      <td>Dinner</td>\n",
              "      <td>3</td>\n",
              "    </tr>\n",
              "    <tr>\n",
              "      <th>2</th>\n",
              "      <td>21.01</td>\n",
              "      <td>3.50</td>\n",
              "      <td>0</td>\n",
              "      <td>0</td>\n",
              "      <td>Sun</td>\n",
              "      <td>Dinner</td>\n",
              "      <td>3</td>\n",
              "    </tr>\n",
              "    <tr>\n",
              "      <th>3</th>\n",
              "      <td>23.68</td>\n",
              "      <td>3.31</td>\n",
              "      <td>0</td>\n",
              "      <td>0</td>\n",
              "      <td>Sun</td>\n",
              "      <td>Dinner</td>\n",
              "      <td>2</td>\n",
              "    </tr>\n",
              "    <tr>\n",
              "      <th>4</th>\n",
              "      <td>24.59</td>\n",
              "      <td>3.61</td>\n",
              "      <td>1</td>\n",
              "      <td>0</td>\n",
              "      <td>Sun</td>\n",
              "      <td>Dinner</td>\n",
              "      <td>4</td>\n",
              "    </tr>\n",
              "  </tbody>\n",
              "</table>\n",
              "</div>"
            ],
            "text/plain": [
              "   total_bill   tip sex smoker  day    time  size\n",
              "0       16.99  1.01   1      0  Sun  Dinner     2\n",
              "1       10.34  1.66   0      0  Sun  Dinner     3\n",
              "2       21.01  3.50   0      0  Sun  Dinner     3\n",
              "3       23.68  3.31   0      0  Sun  Dinner     2\n",
              "4       24.59  3.61   1      0  Sun  Dinner     4"
            ]
          },
          "metadata": {},
          "execution_count": 14
        }
      ]
    },
    {
      "cell_type": "markdown",
      "metadata": {
        "id": "4RbhkD3-Zbl6"
      },
      "source": [
        "\n",
        "\n",
        "\n",
        "---\n",
        "\n"
      ]
    },
    {
      "cell_type": "markdown",
      "metadata": {
        "id": "JabFfYk0jTUp"
      },
      "source": [
        "#####❗ **map함수의 한계** ❗"
      ]
    },
    {
      "cell_type": "markdown",
      "metadata": {
        "id": "4qpRLKhstyOG"
      },
      "source": [
        "\n",
        "\n",
        "앞서 Pandas의 map 함수를 이용해서 범주형 데이터(Categorical data)를 수치형 데이터(Numerical data)로 인코딩 해주었습니다.\n",
        "\n",
        "하지만, **하나의 feature 내 카테고리 개수가 너무 많은 경우는 어떨까요?**  \n",
        "아래 mpg_dataset의 'name' 항목처럼요. (*자동차 모델명)\n"
      ]
    },
    {
      "cell_type": "markdown",
      "metadata": {
        "id": "sbOEF_5zhxHf"
      },
      "source": [
        "<img src='https://ifh.cc/g/hqgTUr.png' width=\"750px;\" border='0'>"
      ]
    },
    {
      "cell_type": "code",
      "metadata": {
        "colab": {
          "base_uri": "https://localhost:8080/",
          "height": 171
        },
        "id": "_cYaSnPEpsQT",
        "outputId": "a73019fb-4e25-48df-d50e-86bd398a1b68"
      },
      "source": [
        "mpg.head(4)"
      ],
      "execution_count": null,
      "outputs": [
        {
          "output_type": "execute_result",
          "data": {
            "text/html": [
              "<div>\n",
              "<style scoped>\n",
              "    .dataframe tbody tr th:only-of-type {\n",
              "        vertical-align: middle;\n",
              "    }\n",
              "\n",
              "    .dataframe tbody tr th {\n",
              "        vertical-align: top;\n",
              "    }\n",
              "\n",
              "    .dataframe thead th {\n",
              "        text-align: right;\n",
              "    }\n",
              "</style>\n",
              "<table border=\"1\" class=\"dataframe\">\n",
              "  <thead>\n",
              "    <tr style=\"text-align: right;\">\n",
              "      <th></th>\n",
              "      <th>mpg</th>\n",
              "      <th>cylinders</th>\n",
              "      <th>displacement</th>\n",
              "      <th>horsepower</th>\n",
              "      <th>weight</th>\n",
              "      <th>acceleration</th>\n",
              "      <th>model_year</th>\n",
              "      <th>origin</th>\n",
              "      <th>name</th>\n",
              "    </tr>\n",
              "  </thead>\n",
              "  <tbody>\n",
              "    <tr>\n",
              "      <th>0</th>\n",
              "      <td>18.0</td>\n",
              "      <td>8</td>\n",
              "      <td>307.0</td>\n",
              "      <td>130.0</td>\n",
              "      <td>3504</td>\n",
              "      <td>12.0</td>\n",
              "      <td>70</td>\n",
              "      <td>usa</td>\n",
              "      <td>chevrolet chevelle malibu</td>\n",
              "    </tr>\n",
              "    <tr>\n",
              "      <th>1</th>\n",
              "      <td>15.0</td>\n",
              "      <td>8</td>\n",
              "      <td>350.0</td>\n",
              "      <td>165.0</td>\n",
              "      <td>3693</td>\n",
              "      <td>11.5</td>\n",
              "      <td>70</td>\n",
              "      <td>usa</td>\n",
              "      <td>buick skylark 320</td>\n",
              "    </tr>\n",
              "    <tr>\n",
              "      <th>2</th>\n",
              "      <td>18.0</td>\n",
              "      <td>8</td>\n",
              "      <td>318.0</td>\n",
              "      <td>150.0</td>\n",
              "      <td>3436</td>\n",
              "      <td>11.0</td>\n",
              "      <td>70</td>\n",
              "      <td>usa</td>\n",
              "      <td>plymouth satellite</td>\n",
              "    </tr>\n",
              "    <tr>\n",
              "      <th>3</th>\n",
              "      <td>16.0</td>\n",
              "      <td>8</td>\n",
              "      <td>304.0</td>\n",
              "      <td>150.0</td>\n",
              "      <td>3433</td>\n",
              "      <td>12.0</td>\n",
              "      <td>70</td>\n",
              "      <td>usa</td>\n",
              "      <td>amc rebel sst</td>\n",
              "    </tr>\n",
              "  </tbody>\n",
              "</table>\n",
              "</div>"
            ],
            "text/plain": [
              "    mpg  cylinders  displacement  ...  model_year  origin                       name\n",
              "0  18.0          8         307.0  ...          70     usa  chevrolet chevelle malibu\n",
              "1  15.0          8         350.0  ...          70     usa          buick skylark 320\n",
              "2  18.0          8         318.0  ...          70     usa         plymouth satellite\n",
              "3  16.0          8         304.0  ...          70     usa              amc rebel sst\n",
              "\n",
              "[4 rows x 9 columns]"
            ]
          },
          "metadata": {},
          "execution_count": 19
        }
      ]
    },
    {
      "cell_type": "code",
      "metadata": {
        "colab": {
          "base_uri": "https://localhost:8080/"
        },
        "id": "q-9w9mYBp0l9",
        "outputId": "6c4e3948-642c-4b33-d679-434871b887b8"
      },
      "source": [
        "mpg.name"
      ],
      "execution_count": null,
      "outputs": [
        {
          "output_type": "execute_result",
          "data": {
            "text/plain": [
              "0      chevrolet chevelle malibu\n",
              "1              buick skylark 320\n",
              "2             plymouth satellite\n",
              "3                  amc rebel sst\n",
              "4                    ford torino\n",
              "                 ...            \n",
              "393              ford mustang gl\n",
              "394                    vw pickup\n",
              "395                dodge rampage\n",
              "396                  ford ranger\n",
              "397                   chevy s-10\n",
              "Name: name, Length: 398, dtype: object"
            ]
          },
          "metadata": {},
          "execution_count": 20
        }
      ]
    },
    {
      "cell_type": "code",
      "metadata": {
        "id": "GbRFbTODt-dQ",
        "colab": {
          "base_uri": "https://localhost:8080/"
        },
        "outputId": "c876debe-c169-41ef-fe03-1655acf9e754"
      },
      "source": [
        "print(mpg.name.nunique())"
      ],
      "execution_count": null,
      "outputs": [
        {
          "output_type": "stream",
          "name": "stdout",
          "text": [
            "305\n"
          ]
        }
      ]
    },
    {
      "cell_type": "code",
      "metadata": {
        "colab": {
          "base_uri": "https://localhost:8080/"
        },
        "id": "dzq25GOIpfrk",
        "outputId": "80217b1c-0abd-4fba-a89f-a23991d25286"
      },
      "source": [
        "print(mpg['name'].unique()) "
      ],
      "execution_count": null,
      "outputs": [
        {
          "output_type": "stream",
          "name": "stdout",
          "text": [
            "['chevrolet chevelle malibu' 'buick skylark 320' 'plymouth satellite'\n",
            " 'amc rebel sst' 'ford torino' 'ford galaxie 500' 'chevrolet impala'\n",
            " 'plymouth fury iii' 'pontiac catalina' 'amc ambassador dpl'\n",
            " 'dodge challenger se' \"plymouth 'cuda 340\" 'chevrolet monte carlo'\n",
            " 'buick estate wagon (sw)' 'toyota corona mark ii' 'plymouth duster'\n",
            " 'amc hornet' 'ford maverick' 'datsun pl510'\n",
            " 'volkswagen 1131 deluxe sedan' 'peugeot 504' 'audi 100 ls' 'saab 99e'\n",
            " 'bmw 2002' 'amc gremlin' 'ford f250' 'chevy c20' 'dodge d200' 'hi 1200d'\n",
            " 'chevrolet vega 2300' 'toyota corona' 'ford pinto'\n",
            " 'plymouth satellite custom' 'ford torino 500' 'amc matador'\n",
            " 'pontiac catalina brougham' 'dodge monaco (sw)'\n",
            " 'ford country squire (sw)' 'pontiac safari (sw)'\n",
            " 'amc hornet sportabout (sw)' 'chevrolet vega (sw)' 'pontiac firebird'\n",
            " 'ford mustang' 'mercury capri 2000' 'opel 1900' 'peugeot 304' 'fiat 124b'\n",
            " 'toyota corolla 1200' 'datsun 1200' 'volkswagen model 111'\n",
            " 'plymouth cricket' 'toyota corona hardtop' 'dodge colt hardtop'\n",
            " 'volkswagen type 3' 'chevrolet vega' 'ford pinto runabout'\n",
            " 'amc ambassador sst' 'mercury marquis' 'buick lesabre custom'\n",
            " 'oldsmobile delta 88 royale' 'chrysler newport royal' 'mazda rx2 coupe'\n",
            " 'amc matador (sw)' 'chevrolet chevelle concours (sw)'\n",
            " 'ford gran torino (sw)' 'plymouth satellite custom (sw)'\n",
            " 'volvo 145e (sw)' 'volkswagen 411 (sw)' 'peugeot 504 (sw)'\n",
            " 'renault 12 (sw)' 'ford pinto (sw)' 'datsun 510 (sw)'\n",
            " 'toyouta corona mark ii (sw)' 'dodge colt (sw)'\n",
            " 'toyota corolla 1600 (sw)' 'buick century 350' 'chevrolet malibu'\n",
            " 'ford gran torino' 'dodge coronet custom' 'mercury marquis brougham'\n",
            " 'chevrolet caprice classic' 'ford ltd' 'plymouth fury gran sedan'\n",
            " 'chrysler new yorker brougham' 'buick electra 225 custom'\n",
            " 'amc ambassador brougham' 'plymouth valiant' 'chevrolet nova custom'\n",
            " 'volkswagen super beetle' 'ford country' 'plymouth custom suburb'\n",
            " 'oldsmobile vista cruiser' 'toyota carina' 'datsun 610' 'maxda rx3'\n",
            " 'mercury capri v6' 'fiat 124 sport coupe' 'chevrolet monte carlo s'\n",
            " 'pontiac grand prix' 'fiat 128' 'opel manta' 'audi 100ls' 'volvo 144ea'\n",
            " 'dodge dart custom' 'saab 99le' 'toyota mark ii' 'oldsmobile omega'\n",
            " 'chevrolet nova' 'datsun b210' 'chevrolet chevelle malibu classic'\n",
            " 'plymouth satellite sebring' 'buick century luxus (sw)'\n",
            " 'dodge coronet custom (sw)' 'audi fox' 'volkswagen dasher' 'datsun 710'\n",
            " 'dodge colt' 'fiat 124 tc' 'honda civic' 'subaru' 'fiat x1.9'\n",
            " 'plymouth valiant custom' 'mercury monarch' 'chevrolet bel air'\n",
            " 'plymouth grand fury' 'buick century' 'chevroelt chevelle malibu'\n",
            " 'plymouth fury' 'buick skyhawk' 'chevrolet monza 2+2' 'ford mustang ii'\n",
            " 'toyota corolla' 'pontiac astro' 'volkswagen rabbit' 'amc pacer'\n",
            " 'volvo 244dl' 'honda civic cvcc' 'fiat 131' 'capri ii' 'renault 12tl'\n",
            " 'dodge coronet brougham' 'chevrolet chevette' 'chevrolet woody'\n",
            " 'vw rabbit' 'dodge aspen se' 'ford granada ghia' 'pontiac ventura sj'\n",
            " 'amc pacer d/l' 'datsun b-210' 'volvo 245' 'plymouth volare premier v8'\n",
            " 'mercedes-benz 280s' 'cadillac seville' 'chevy c10' 'ford f108'\n",
            " 'dodge d100' 'honda accord cvcc' 'buick opel isuzu deluxe'\n",
            " 'renault 5 gtl' 'plymouth arrow gs' 'datsun f-10 hatchback'\n",
            " 'oldsmobile cutlass supreme' 'dodge monaco brougham'\n",
            " 'mercury cougar brougham' 'chevrolet concours' 'buick skylark'\n",
            " 'plymouth volare custom' 'ford granada' 'pontiac grand prix lj'\n",
            " 'chevrolet monte carlo landau' 'chrysler cordoba' 'ford thunderbird'\n",
            " 'volkswagen rabbit custom' 'pontiac sunbird coupe'\n",
            " 'toyota corolla liftback' 'ford mustang ii 2+2' 'dodge colt m/m'\n",
            " 'subaru dl' 'datsun 810' 'bmw 320i' 'mazda rx-4'\n",
            " 'volkswagen rabbit custom diesel' 'ford fiesta' 'mazda glc deluxe'\n",
            " 'datsun b210 gx' 'oldsmobile cutlass salon brougham' 'dodge diplomat'\n",
            " 'mercury monarch ghia' 'pontiac phoenix lj' 'ford fairmont (auto)'\n",
            " 'ford fairmont (man)' 'plymouth volare' 'amc concord'\n",
            " 'buick century special' 'mercury zephyr' 'dodge aspen' 'amc concord d/l'\n",
            " 'buick regal sport coupe (turbo)' 'ford futura' 'dodge magnum xe'\n",
            " 'datsun 510' 'dodge omni' 'toyota celica gt liftback' 'plymouth sapporo'\n",
            " 'oldsmobile starfire sx' 'datsun 200-sx' 'audi 5000' 'volvo 264gl'\n",
            " 'saab 99gle' 'peugeot 604sl' 'volkswagen scirocco' 'honda accord lx'\n",
            " 'pontiac lemans v6' 'mercury zephyr 6' 'ford fairmont 4'\n",
            " 'amc concord dl 6' 'dodge aspen 6' 'ford ltd landau'\n",
            " 'mercury grand marquis' 'dodge st. regis' 'chevrolet malibu classic (sw)'\n",
            " 'chrysler lebaron town @ country (sw)' 'vw rabbit custom'\n",
            " 'maxda glc deluxe' 'dodge colt hatchback custom' 'amc spirit dl'\n",
            " 'mercedes benz 300d' 'cadillac eldorado' 'plymouth horizon'\n",
            " 'plymouth horizon tc3' 'datsun 210' 'fiat strada custom'\n",
            " 'buick skylark limited' 'chevrolet citation' 'oldsmobile omega brougham'\n",
            " 'pontiac phoenix' 'toyota corolla tercel' 'datsun 310' 'ford fairmont'\n",
            " 'audi 4000' 'toyota corona liftback' 'mazda 626' 'datsun 510 hatchback'\n",
            " 'mazda glc' 'vw rabbit c (diesel)' 'vw dasher (diesel)'\n",
            " 'audi 5000s (diesel)' 'mercedes-benz 240d' 'honda civic 1500 gl'\n",
            " 'renault lecar deluxe' 'vokswagen rabbit' 'datsun 280-zx' 'mazda rx-7 gs'\n",
            " 'triumph tr7 coupe' 'ford mustang cobra' 'honda accord'\n",
            " 'plymouth reliant' 'dodge aries wagon (sw)' 'toyota starlet'\n",
            " 'plymouth champ' 'honda civic 1300' 'datsun 210 mpg' 'toyota tercel'\n",
            " 'mazda glc 4' 'plymouth horizon 4' 'ford escort 4w' 'ford escort 2h'\n",
            " 'volkswagen jetta' 'renault 18i' 'honda prelude' 'datsun 200sx'\n",
            " 'peugeot 505s turbo diesel' 'volvo diesel' 'toyota cressida'\n",
            " 'datsun 810 maxima' 'oldsmobile cutlass ls' 'ford granada gl'\n",
            " 'chrysler lebaron salon' 'chevrolet cavalier' 'chevrolet cavalier wagon'\n",
            " 'chevrolet cavalier 2-door' 'pontiac j2000 se hatchback' 'dodge aries se'\n",
            " 'ford fairmont futura' 'amc concord dl' 'volkswagen rabbit l'\n",
            " 'mazda glc custom l' 'mazda glc custom' 'plymouth horizon miser'\n",
            " 'mercury lynx l' 'nissan stanza xe' 'honda civic (auto)' 'datsun 310 gx'\n",
            " 'buick century limited' 'oldsmobile cutlass ciera (diesel)'\n",
            " 'chrysler lebaron medallion' 'ford granada l' 'toyota celica gt'\n",
            " 'dodge charger 2.2' 'chevrolet camaro' 'ford mustang gl' 'vw pickup'\n",
            " 'dodge rampage' 'ford ranger' 'chevy s-10']\n"
          ]
        }
      ]
    },
    {
      "cell_type": "markdown",
      "metadata": {
        "id": "7ss7LrLtxcMP"
      },
      "source": [
        "이거 정말 map 함수로 일일이 인코딩... 가능할까요?😖😖\n",
        "\n",
        "</br>\n",
        "\n",
        "---\n",
        "\n",
        "</br>\n",
        "\n"
      ]
    },
    {
      "cell_type": "markdown",
      "metadata": {
        "id": "_e9izxW1jGm0"
      },
      "source": [
        "#### 2️⃣ **Scikit-learn** 의 패키지 이용하기 🔧"
      ]
    },
    {
      "cell_type": "markdown",
      "metadata": {
        "id": "3YnrIhapyXII"
      },
      "source": [
        "💡 이런 경우 두 번째 방법인 **scikit-learn (sklearn)**의 **LabelEncoder** 를 활용하면 됩니다!\n",
        "\n",
        "\n",
        "\n"
      ]
    },
    {
      "cell_type": "markdown",
      "metadata": {
        "id": "-FSlff-AnDLO"
      },
      "source": [
        "<img src='https://ifh.cc/g/zUCZ29.png' width=\"620px;\"  border='0'>"
      ]
    },
    {
      "cell_type": "markdown",
      "metadata": {
        "id": "I6Fw-EUSnCO4"
      },
      "source": [
        "iris_dataset에서 categorical data인 'species'의 인코딩을 통해 알아볼까요?\n",
        "\n",
        "```\n",
        "🙂 여기서 잠깐! iris_dataset 기억나시나요?  \n",
        "👉 petal(꽃잎)과 sepal(꽃받침)의 길이/너비 data를 바탕으로 어떤 species(종)인지 예측\n",
        "```\n",
        "\n",
        "\n",
        "\n",
        ">  LabelEncoder를 쓰기 위해, 먼저 전처리(preprocessing) 패키지를 불러옵니다.\n",
        "\n",
        "```\n",
        "from sklearn import preprocessing\n",
        "```\n",
        "\n"
      ]
    },
    {
      "cell_type": "code",
      "metadata": {
        "id": "yUj7DxvxvUv9",
        "colab": {
          "base_uri": "https://localhost:8080/"
        },
        "outputId": "562d66a1-8b41-4bee-88d4-085b2b63e0b6"
      },
      "source": [
        "import seaborn as sns # from seaborn import relplot\n",
        "# import sklearn\n",
        "from sklearn import preprocessing   #LabelEncoder()를 쓰기위해 먼저 불러와야 하는 패키지\n",
        "# sklearn 안에 있는 perprocessing 기능을 불러오는 것(원활한 런타임 작동을 위해 필요한 기능만 불러온다.)\n",
        "\n",
        "iris = sns.load_dataset('iris')\n",
        "print(iris.head())  # 원본 확인"
      ],
      "execution_count": null,
      "outputs": [
        {
          "output_type": "stream",
          "name": "stdout",
          "text": [
            "   sepal_length  sepal_width  petal_length  petal_width species\n",
            "0           5.1          3.5           1.4          0.2  setosa\n",
            "1           4.9          3.0           1.4          0.2  setosa\n",
            "2           4.7          3.2           1.3          0.2  setosa\n",
            "3           4.6          3.1           1.5          0.2  setosa\n",
            "4           5.0          3.6           1.4          0.2  setosa\n"
          ]
        }
      ]
    },
    {
      "cell_type": "markdown",
      "metadata": {
        "id": "ffufpRWlLql_"
      },
      "source": [
        "> 🔓**인코딩 하기!**\n",
        "- `preprocessing.LabelEncoder()`\n",
        "- `le.fit_transform(바꾸려는 데이터열)`\n",
        "\n",
        "><img src='https://ifh.cc/g/Y3bhX0.png'  width=\"405px;\" height=\"140px;\" border='0'>\n",
        "\n"
      ]
    },
    {
      "cell_type": "code",
      "metadata": {
        "id": "Pl3nW-k0KkAa"
      },
      "source": [
        "le = preprocessing.LabelEncoder()"
      ],
      "execution_count": null,
      "outputs": []
    },
    {
      "cell_type": "code",
      "metadata": {
        "id": "_uPoQ4HUpcyy",
        "colab": {
          "base_uri": "https://localhost:8080/",
          "height": 218
        },
        "outputId": "008371a9-ace0-40a2-e641-8bfbb78cbc19"
      },
      "source": [
        "iris['species'] = le.fit_transform(iris['species'])   # categorical 데이터를 간편하게 numerical 데이터로 바꿔줍니다\n",
        "print(iris['species'].unique()) # 각각의 범주형 데이터(categorical data)가 각각 어떤 수치형 데이터(numerical data)로 인코딩(encoding)됬는지 'unique'를 써서 확인\n",
        "iris.head()    # 데이터가 어떻게 바뀌었는지 확인"
      ],
      "execution_count": null,
      "outputs": [
        {
          "output_type": "stream",
          "name": "stdout",
          "text": [
            "[0 1 2]\n"
          ]
        },
        {
          "output_type": "execute_result",
          "data": {
            "text/html": [
              "<div>\n",
              "<style scoped>\n",
              "    .dataframe tbody tr th:only-of-type {\n",
              "        vertical-align: middle;\n",
              "    }\n",
              "\n",
              "    .dataframe tbody tr th {\n",
              "        vertical-align: top;\n",
              "    }\n",
              "\n",
              "    .dataframe thead th {\n",
              "        text-align: right;\n",
              "    }\n",
              "</style>\n",
              "<table border=\"1\" class=\"dataframe\">\n",
              "  <thead>\n",
              "    <tr style=\"text-align: right;\">\n",
              "      <th></th>\n",
              "      <th>sepal_length</th>\n",
              "      <th>sepal_width</th>\n",
              "      <th>petal_length</th>\n",
              "      <th>petal_width</th>\n",
              "      <th>species</th>\n",
              "    </tr>\n",
              "  </thead>\n",
              "  <tbody>\n",
              "    <tr>\n",
              "      <th>0</th>\n",
              "      <td>5.1</td>\n",
              "      <td>3.5</td>\n",
              "      <td>1.4</td>\n",
              "      <td>0.2</td>\n",
              "      <td>0</td>\n",
              "    </tr>\n",
              "    <tr>\n",
              "      <th>1</th>\n",
              "      <td>4.9</td>\n",
              "      <td>3.0</td>\n",
              "      <td>1.4</td>\n",
              "      <td>0.2</td>\n",
              "      <td>0</td>\n",
              "    </tr>\n",
              "    <tr>\n",
              "      <th>2</th>\n",
              "      <td>4.7</td>\n",
              "      <td>3.2</td>\n",
              "      <td>1.3</td>\n",
              "      <td>0.2</td>\n",
              "      <td>0</td>\n",
              "    </tr>\n",
              "    <tr>\n",
              "      <th>3</th>\n",
              "      <td>4.6</td>\n",
              "      <td>3.1</td>\n",
              "      <td>1.5</td>\n",
              "      <td>0.2</td>\n",
              "      <td>0</td>\n",
              "    </tr>\n",
              "    <tr>\n",
              "      <th>4</th>\n",
              "      <td>5.0</td>\n",
              "      <td>3.6</td>\n",
              "      <td>1.4</td>\n",
              "      <td>0.2</td>\n",
              "      <td>0</td>\n",
              "    </tr>\n",
              "  </tbody>\n",
              "</table>\n",
              "</div>"
            ],
            "text/plain": [
              "   sepal_length  sepal_width  petal_length  petal_width  species\n",
              "0           5.1          3.5           1.4          0.2        0\n",
              "1           4.9          3.0           1.4          0.2        0\n",
              "2           4.7          3.2           1.3          0.2        0\n",
              "3           4.6          3.1           1.5          0.2        0\n",
              "4           5.0          3.6           1.4          0.2        0"
            ]
          },
          "metadata": {},
          "execution_count": 24
        }
      ]
    },
    {
      "cell_type": "markdown",
      "metadata": {
        "id": "ACrbHyitdweO"
      },
      "source": [
        "### 👀 수치형(numerical)으로 인코딩한 데이터를 범주형(categorical)데이터로 **다시 되돌리고 싶다면?** \n",
        "\n",
        "\n"
      ]
    },
    {
      "cell_type": "code",
      "metadata": {
        "id": "08H9uHWZxpf9",
        "colab": {
          "base_uri": "https://localhost:8080/",
          "height": 202
        },
        "outputId": "9a240f5b-c7a9-4813-d2bc-41ef6dc993b2"
      },
      "source": [
        "# 반대로, numerical 데이터를 catergorical 데이터로 되돌릴 수도 있습니다\n",
        "iris['species'] = le.inverse_transform(iris['species'])\n",
        "iris.head()"
      ],
      "execution_count": null,
      "outputs": [
        {
          "output_type": "execute_result",
          "data": {
            "text/html": [
              "<div>\n",
              "<style scoped>\n",
              "    .dataframe tbody tr th:only-of-type {\n",
              "        vertical-align: middle;\n",
              "    }\n",
              "\n",
              "    .dataframe tbody tr th {\n",
              "        vertical-align: top;\n",
              "    }\n",
              "\n",
              "    .dataframe thead th {\n",
              "        text-align: right;\n",
              "    }\n",
              "</style>\n",
              "<table border=\"1\" class=\"dataframe\">\n",
              "  <thead>\n",
              "    <tr style=\"text-align: right;\">\n",
              "      <th></th>\n",
              "      <th>sepal_length</th>\n",
              "      <th>sepal_width</th>\n",
              "      <th>petal_length</th>\n",
              "      <th>petal_width</th>\n",
              "      <th>species</th>\n",
              "    </tr>\n",
              "  </thead>\n",
              "  <tbody>\n",
              "    <tr>\n",
              "      <th>0</th>\n",
              "      <td>5.1</td>\n",
              "      <td>3.5</td>\n",
              "      <td>1.4</td>\n",
              "      <td>0.2</td>\n",
              "      <td>setosa</td>\n",
              "    </tr>\n",
              "    <tr>\n",
              "      <th>1</th>\n",
              "      <td>4.9</td>\n",
              "      <td>3.0</td>\n",
              "      <td>1.4</td>\n",
              "      <td>0.2</td>\n",
              "      <td>setosa</td>\n",
              "    </tr>\n",
              "    <tr>\n",
              "      <th>2</th>\n",
              "      <td>4.7</td>\n",
              "      <td>3.2</td>\n",
              "      <td>1.3</td>\n",
              "      <td>0.2</td>\n",
              "      <td>setosa</td>\n",
              "    </tr>\n",
              "    <tr>\n",
              "      <th>3</th>\n",
              "      <td>4.6</td>\n",
              "      <td>3.1</td>\n",
              "      <td>1.5</td>\n",
              "      <td>0.2</td>\n",
              "      <td>setosa</td>\n",
              "    </tr>\n",
              "    <tr>\n",
              "      <th>4</th>\n",
              "      <td>5.0</td>\n",
              "      <td>3.6</td>\n",
              "      <td>1.4</td>\n",
              "      <td>0.2</td>\n",
              "      <td>setosa</td>\n",
              "    </tr>\n",
              "  </tbody>\n",
              "</table>\n",
              "</div>"
            ],
            "text/plain": [
              "   sepal_length  sepal_width  petal_length  petal_width species\n",
              "0           5.1          3.5           1.4          0.2  setosa\n",
              "1           4.9          3.0           1.4          0.2  setosa\n",
              "2           4.7          3.2           1.3          0.2  setosa\n",
              "3           4.6          3.1           1.5          0.2  setosa\n",
              "4           5.0          3.6           1.4          0.2  setosa"
            ]
          },
          "metadata": {},
          "execution_count": 25
        }
      ]
    },
    {
      "cell_type": "code",
      "metadata": {
        "id": "atDSgAbVp8mD",
        "colab": {
          "base_uri": "https://localhost:8080/"
        },
        "outputId": "49f9922a-5b02-40cf-a568-04ec43e7633f"
      },
      "source": [
        "le.transform(['setosa', 'versicolor', 'virginica']) # 변수가 어떻게 numerical 데이터로 표기되었는지."
      ],
      "execution_count": null,
      "outputs": [
        {
          "output_type": "execute_result",
          "data": {
            "text/plain": [
              "array([0, 1, 2])"
            ]
          },
          "metadata": {},
          "execution_count": 26
        }
      ]
    },
    {
      "cell_type": "markdown",
      "metadata": {
        "id": "4NusXHGrp8SV"
      },
      "source": [
        "\n",
        "\n",
        "---\n",
        "\n"
      ]
    },
    {
      "cell_type": "markdown",
      "metadata": {
        "id": "yAi2L2k2EscU"
      },
      "source": [
        "#####❗ **Label encoder의 한계** ❗"
      ]
    },
    {
      "cell_type": "markdown",
      "metadata": {
        "id": "xfySwYZrEscV"
      },
      "source": [
        "\n",
        "위와 같은 인코딩(전처리) 방법 두 개는 간단하고 직관적이지만, 한 가지 문제가 있습니다 ⛔\n",
        "\n",
        "> **[ 매우 싫다 -> 1, 보통이다 -> 3 , 매우 좋다 -> 5점 ]** 처럼  \n",
        " \"ordinal한 데이터\"에는 적합하지만, 🙆‍♀️ (*순서 또는 등급 有)\n",
        "\n",
        "> **[ 빨강 -> 1, 파랑 -> 2, 초록 -> 3 ]** 처럼  \n",
        " \"nominal한 데이터\"에는 적합하지 않습니다. 🙅‍♀️ (*순서 또는 등급 無)\n",
        "\n",
        "> 빨강, 파랑, 초록이라는 색깔들 사이에는 어떠한 순서나 등급도 없지만,  \n",
        "위의 방법들로 변환하면 초록값이 가장 크다던지,  \n",
        "\"(초록값) - (파랑값) = (빨강값)\" 등의 **관계**가 생기기 때문입니다.  \n",
        "\n",
        "> 머신러닝 모델은 변환된 숫자를 바탕으로 학습하기 때문에, 잘못하면 위의 관계(특성)를 학습해 버립니다 😭😭  \n",
        "이는 논리적으로 문제가 있을 뿐만 아니라, 실제 모델의 성능도 잘 안나오게 됩니다. "
      ]
    },
    {
      "cell_type": "markdown",
      "metadata": {
        "id": "GoRjy4lREscV"
      },
      "source": [
        "\n",
        "\n",
        "---\n",
        "\n",
        "</br>\n",
        "\n"
      ]
    },
    {
      "cell_type": "markdown",
      "metadata": {
        "id": "Hwlrjpbmx2cE"
      },
      "source": [
        "#### 3️⃣ **pandas**의 **get_dummies**  이용하기 🔩\n",
        "\n",
        "</br>\n",
        "\n",
        "\n",
        "**💡 따라서 nominal한 데이터 변환을 위해서는**, 숫자이기는 하지만 **서로 '관계없는' 숫자로 변환**해 주어야합니다.  \n",
        "\n"
      ]
    },
    {
      "cell_type": "markdown",
      "metadata": {
        "id": "kY1H9OKlpwLB"
      },
      "source": [
        "<img src='https://ifh.cc/g/qlK9eZ.png' width=\"680px;\"  border='0'>"
      ]
    },
    {
      "cell_type": "markdown",
      "metadata": {
        "id": "UFYmeRlbNnD7"
      },
      "source": [
        "<img src='https://ifh.cc/g/r5eLEF.png' border='0'>\n",
        "\n",
        "\n",
        "---\n",
        "\n",
        "</br>\n",
        "\n"
      ]
    },
    {
      "cell_type": "markdown",
      "metadata": {
        "id": "uLuSCscO6Udx"
      },
      "source": [
        "👉 그럼 mpg_dataset에서 'origin(자동차 제조국)' 열을 통해 자세히 알아보겠습니다."
      ]
    },
    {
      "cell_type": "code",
      "metadata": {
        "id": "uIGcMdA88Ip7",
        "colab": {
          "base_uri": "https://localhost:8080/"
        },
        "outputId": "4d046d3a-6254-42d0-d610-03ad17f608a2"
      },
      "source": [
        "mpg.origin.unique() \n",
        "# mpg_dataset에서 타겟열('origin')의 카테고리 종류(중복되지 않는 값의 개수) 확인하기\n",
        "# mpg['origin'].unique() 와 같은 기능!"
      ],
      "execution_count": null,
      "outputs": [
        {
          "output_type": "execute_result",
          "data": {
            "text/plain": [
              "array(['usa', 'japan', 'europe'], dtype=object)"
            ]
          },
          "metadata": {},
          "execution_count": 27
        }
      ]
    },
    {
      "cell_type": "code",
      "metadata": {
        "id": "n3c421cg812n",
        "colab": {
          "base_uri": "https://localhost:8080/",
          "height": 414
        },
        "outputId": "8dab800d-ded7-45c8-be2c-668897586aee"
      },
      "source": [
        "mpg_origin_dummies = pd.get_dummies(mpg['origin'],prefix='Origin')  \n",
        "# origin에 속한 카테고리(원산지)별로 새로운 comlumn(열)이 생김\n",
        "mpg_origin_dummies"
      ],
      "execution_count": null,
      "outputs": [
        {
          "output_type": "execute_result",
          "data": {
            "text/html": [
              "<div>\n",
              "<style scoped>\n",
              "    .dataframe tbody tr th:only-of-type {\n",
              "        vertical-align: middle;\n",
              "    }\n",
              "\n",
              "    .dataframe tbody tr th {\n",
              "        vertical-align: top;\n",
              "    }\n",
              "\n",
              "    .dataframe thead th {\n",
              "        text-align: right;\n",
              "    }\n",
              "</style>\n",
              "<table border=\"1\" class=\"dataframe\">\n",
              "  <thead>\n",
              "    <tr style=\"text-align: right;\">\n",
              "      <th></th>\n",
              "      <th>Origin_europe</th>\n",
              "      <th>Origin_japan</th>\n",
              "      <th>Origin_usa</th>\n",
              "    </tr>\n",
              "  </thead>\n",
              "  <tbody>\n",
              "    <tr>\n",
              "      <th>0</th>\n",
              "      <td>0</td>\n",
              "      <td>0</td>\n",
              "      <td>1</td>\n",
              "    </tr>\n",
              "    <tr>\n",
              "      <th>1</th>\n",
              "      <td>0</td>\n",
              "      <td>0</td>\n",
              "      <td>1</td>\n",
              "    </tr>\n",
              "    <tr>\n",
              "      <th>2</th>\n",
              "      <td>0</td>\n",
              "      <td>0</td>\n",
              "      <td>1</td>\n",
              "    </tr>\n",
              "    <tr>\n",
              "      <th>3</th>\n",
              "      <td>0</td>\n",
              "      <td>0</td>\n",
              "      <td>1</td>\n",
              "    </tr>\n",
              "    <tr>\n",
              "      <th>4</th>\n",
              "      <td>0</td>\n",
              "      <td>0</td>\n",
              "      <td>1</td>\n",
              "    </tr>\n",
              "    <tr>\n",
              "      <th>...</th>\n",
              "      <td>...</td>\n",
              "      <td>...</td>\n",
              "      <td>...</td>\n",
              "    </tr>\n",
              "    <tr>\n",
              "      <th>393</th>\n",
              "      <td>0</td>\n",
              "      <td>0</td>\n",
              "      <td>1</td>\n",
              "    </tr>\n",
              "    <tr>\n",
              "      <th>394</th>\n",
              "      <td>1</td>\n",
              "      <td>0</td>\n",
              "      <td>0</td>\n",
              "    </tr>\n",
              "    <tr>\n",
              "      <th>395</th>\n",
              "      <td>0</td>\n",
              "      <td>0</td>\n",
              "      <td>1</td>\n",
              "    </tr>\n",
              "    <tr>\n",
              "      <th>396</th>\n",
              "      <td>0</td>\n",
              "      <td>0</td>\n",
              "      <td>1</td>\n",
              "    </tr>\n",
              "    <tr>\n",
              "      <th>397</th>\n",
              "      <td>0</td>\n",
              "      <td>0</td>\n",
              "      <td>1</td>\n",
              "    </tr>\n",
              "  </tbody>\n",
              "</table>\n",
              "<p>398 rows × 3 columns</p>\n",
              "</div>"
            ],
            "text/plain": [
              "     Origin_europe  Origin_japan  Origin_usa\n",
              "0                0             0           1\n",
              "1                0             0           1\n",
              "2                0             0           1\n",
              "3                0             0           1\n",
              "4                0             0           1\n",
              "..             ...           ...         ...\n",
              "393              0             0           1\n",
              "394              1             0           0\n",
              "395              0             0           1\n",
              "396              0             0           1\n",
              "397              0             0           1\n",
              "\n",
              "[398 rows x 3 columns]"
            ]
          },
          "metadata": {},
          "execution_count": 32
        }
      ]
    },
    {
      "cell_type": "markdown",
      "metadata": {
        "id": "98fubCag84nv"
      },
      "source": [
        "🛠 전처리(변환) 후 원래 데이터와 합쳐주기 🛠\n",
        "\n",
        "<img src='https://ifh.cc/g/ugmEeQ.png' width=\"800px;\" border='0'>\n",
        "\n",
        "\n",
        "> - `pd.concat()`"
      ]
    },
    {
      "cell_type": "code",
      "metadata": {
        "id": "CmYbWkmp9ERk",
        "colab": {
          "base_uri": "https://localhost:8080/",
          "height": 651
        },
        "outputId": "1cbd1df0-f95c-46f0-ee24-f741e34d577b"
      },
      "source": [
        "mpg_dummies = pd.concat([mpg, mpg_origin_dummies], axis=1)\n",
        "mpg_dummies"
      ],
      "execution_count": null,
      "outputs": [
        {
          "output_type": "execute_result",
          "data": {
            "text/html": [
              "<div>\n",
              "<style scoped>\n",
              "    .dataframe tbody tr th:only-of-type {\n",
              "        vertical-align: middle;\n",
              "    }\n",
              "\n",
              "    .dataframe tbody tr th {\n",
              "        vertical-align: top;\n",
              "    }\n",
              "\n",
              "    .dataframe thead th {\n",
              "        text-align: right;\n",
              "    }\n",
              "</style>\n",
              "<table border=\"1\" class=\"dataframe\">\n",
              "  <thead>\n",
              "    <tr style=\"text-align: right;\">\n",
              "      <th></th>\n",
              "      <th>mpg</th>\n",
              "      <th>cylinders</th>\n",
              "      <th>displacement</th>\n",
              "      <th>horsepower</th>\n",
              "      <th>weight</th>\n",
              "      <th>acceleration</th>\n",
              "      <th>model_year</th>\n",
              "      <th>origin</th>\n",
              "      <th>name</th>\n",
              "      <th>Origin_europe</th>\n",
              "      <th>Origin_japan</th>\n",
              "      <th>Origin_usa</th>\n",
              "    </tr>\n",
              "  </thead>\n",
              "  <tbody>\n",
              "    <tr>\n",
              "      <th>0</th>\n",
              "      <td>18.0</td>\n",
              "      <td>8</td>\n",
              "      <td>307.0</td>\n",
              "      <td>130.0</td>\n",
              "      <td>3504</td>\n",
              "      <td>12.0</td>\n",
              "      <td>70</td>\n",
              "      <td>usa</td>\n",
              "      <td>chevrolet chevelle malibu</td>\n",
              "      <td>0</td>\n",
              "      <td>0</td>\n",
              "      <td>1</td>\n",
              "    </tr>\n",
              "    <tr>\n",
              "      <th>1</th>\n",
              "      <td>15.0</td>\n",
              "      <td>8</td>\n",
              "      <td>350.0</td>\n",
              "      <td>165.0</td>\n",
              "      <td>3693</td>\n",
              "      <td>11.5</td>\n",
              "      <td>70</td>\n",
              "      <td>usa</td>\n",
              "      <td>buick skylark 320</td>\n",
              "      <td>0</td>\n",
              "      <td>0</td>\n",
              "      <td>1</td>\n",
              "    </tr>\n",
              "    <tr>\n",
              "      <th>2</th>\n",
              "      <td>18.0</td>\n",
              "      <td>8</td>\n",
              "      <td>318.0</td>\n",
              "      <td>150.0</td>\n",
              "      <td>3436</td>\n",
              "      <td>11.0</td>\n",
              "      <td>70</td>\n",
              "      <td>usa</td>\n",
              "      <td>plymouth satellite</td>\n",
              "      <td>0</td>\n",
              "      <td>0</td>\n",
              "      <td>1</td>\n",
              "    </tr>\n",
              "    <tr>\n",
              "      <th>3</th>\n",
              "      <td>16.0</td>\n",
              "      <td>8</td>\n",
              "      <td>304.0</td>\n",
              "      <td>150.0</td>\n",
              "      <td>3433</td>\n",
              "      <td>12.0</td>\n",
              "      <td>70</td>\n",
              "      <td>usa</td>\n",
              "      <td>amc rebel sst</td>\n",
              "      <td>0</td>\n",
              "      <td>0</td>\n",
              "      <td>1</td>\n",
              "    </tr>\n",
              "    <tr>\n",
              "      <th>4</th>\n",
              "      <td>17.0</td>\n",
              "      <td>8</td>\n",
              "      <td>302.0</td>\n",
              "      <td>140.0</td>\n",
              "      <td>3449</td>\n",
              "      <td>10.5</td>\n",
              "      <td>70</td>\n",
              "      <td>usa</td>\n",
              "      <td>ford torino</td>\n",
              "      <td>0</td>\n",
              "      <td>0</td>\n",
              "      <td>1</td>\n",
              "    </tr>\n",
              "    <tr>\n",
              "      <th>...</th>\n",
              "      <td>...</td>\n",
              "      <td>...</td>\n",
              "      <td>...</td>\n",
              "      <td>...</td>\n",
              "      <td>...</td>\n",
              "      <td>...</td>\n",
              "      <td>...</td>\n",
              "      <td>...</td>\n",
              "      <td>...</td>\n",
              "      <td>...</td>\n",
              "      <td>...</td>\n",
              "      <td>...</td>\n",
              "    </tr>\n",
              "    <tr>\n",
              "      <th>393</th>\n",
              "      <td>27.0</td>\n",
              "      <td>4</td>\n",
              "      <td>140.0</td>\n",
              "      <td>86.0</td>\n",
              "      <td>2790</td>\n",
              "      <td>15.6</td>\n",
              "      <td>82</td>\n",
              "      <td>usa</td>\n",
              "      <td>ford mustang gl</td>\n",
              "      <td>0</td>\n",
              "      <td>0</td>\n",
              "      <td>1</td>\n",
              "    </tr>\n",
              "    <tr>\n",
              "      <th>394</th>\n",
              "      <td>44.0</td>\n",
              "      <td>4</td>\n",
              "      <td>97.0</td>\n",
              "      <td>52.0</td>\n",
              "      <td>2130</td>\n",
              "      <td>24.6</td>\n",
              "      <td>82</td>\n",
              "      <td>europe</td>\n",
              "      <td>vw pickup</td>\n",
              "      <td>1</td>\n",
              "      <td>0</td>\n",
              "      <td>0</td>\n",
              "    </tr>\n",
              "    <tr>\n",
              "      <th>395</th>\n",
              "      <td>32.0</td>\n",
              "      <td>4</td>\n",
              "      <td>135.0</td>\n",
              "      <td>84.0</td>\n",
              "      <td>2295</td>\n",
              "      <td>11.6</td>\n",
              "      <td>82</td>\n",
              "      <td>usa</td>\n",
              "      <td>dodge rampage</td>\n",
              "      <td>0</td>\n",
              "      <td>0</td>\n",
              "      <td>1</td>\n",
              "    </tr>\n",
              "    <tr>\n",
              "      <th>396</th>\n",
              "      <td>28.0</td>\n",
              "      <td>4</td>\n",
              "      <td>120.0</td>\n",
              "      <td>79.0</td>\n",
              "      <td>2625</td>\n",
              "      <td>18.6</td>\n",
              "      <td>82</td>\n",
              "      <td>usa</td>\n",
              "      <td>ford ranger</td>\n",
              "      <td>0</td>\n",
              "      <td>0</td>\n",
              "      <td>1</td>\n",
              "    </tr>\n",
              "    <tr>\n",
              "      <th>397</th>\n",
              "      <td>31.0</td>\n",
              "      <td>4</td>\n",
              "      <td>119.0</td>\n",
              "      <td>82.0</td>\n",
              "      <td>2720</td>\n",
              "      <td>19.4</td>\n",
              "      <td>82</td>\n",
              "      <td>usa</td>\n",
              "      <td>chevy s-10</td>\n",
              "      <td>0</td>\n",
              "      <td>0</td>\n",
              "      <td>1</td>\n",
              "    </tr>\n",
              "  </tbody>\n",
              "</table>\n",
              "<p>398 rows × 12 columns</p>\n",
              "</div>"
            ],
            "text/plain": [
              "      mpg  cylinders  displacement  ...  Origin_europe  Origin_japan  Origin_usa\n",
              "0    18.0          8         307.0  ...              0             0           1\n",
              "1    15.0          8         350.0  ...              0             0           1\n",
              "2    18.0          8         318.0  ...              0             0           1\n",
              "3    16.0          8         304.0  ...              0             0           1\n",
              "4    17.0          8         302.0  ...              0             0           1\n",
              "..    ...        ...           ...  ...            ...           ...         ...\n",
              "393  27.0          4         140.0  ...              0             0           1\n",
              "394  44.0          4          97.0  ...              1             0           0\n",
              "395  32.0          4         135.0  ...              0             0           1\n",
              "396  28.0          4         120.0  ...              0             0           1\n",
              "397  31.0          4         119.0  ...              0             0           1\n",
              "\n",
              "[398 rows x 12 columns]"
            ]
          },
          "metadata": {},
          "execution_count": 33
        }
      ]
    },
    {
      "cell_type": "markdown",
      "metadata": {
        "id": "PBVMj-Ty9Xwh"
      },
      "source": [
        "🛠 Categorical 데이터 삭제(drop)하기 🛠\n",
        "\n",
        "<img src='https://ifh.cc/g/avmjhg.png'  border='0'>\n",
        "\n"
      ]
    },
    {
      "cell_type": "code",
      "metadata": {
        "id": "QPW05-Vz9bRL",
        "colab": {
          "base_uri": "https://localhost:8080/",
          "height": 651
        },
        "outputId": "1c062cfc-7f4a-4e22-fd66-485cb20cad52"
      },
      "source": [
        "mpg_dummies.drop('origin', axis=1, inplace=True) # 'origin'데이터를 삭제(drop)\n",
        "mpg_dummies"
      ],
      "execution_count": null,
      "outputs": [
        {
          "output_type": "execute_result",
          "data": {
            "text/html": [
              "<div>\n",
              "<style scoped>\n",
              "    .dataframe tbody tr th:only-of-type {\n",
              "        vertical-align: middle;\n",
              "    }\n",
              "\n",
              "    .dataframe tbody tr th {\n",
              "        vertical-align: top;\n",
              "    }\n",
              "\n",
              "    .dataframe thead th {\n",
              "        text-align: right;\n",
              "    }\n",
              "</style>\n",
              "<table border=\"1\" class=\"dataframe\">\n",
              "  <thead>\n",
              "    <tr style=\"text-align: right;\">\n",
              "      <th></th>\n",
              "      <th>mpg</th>\n",
              "      <th>cylinders</th>\n",
              "      <th>displacement</th>\n",
              "      <th>horsepower</th>\n",
              "      <th>weight</th>\n",
              "      <th>acceleration</th>\n",
              "      <th>model_year</th>\n",
              "      <th>name</th>\n",
              "      <th>Origin_europe</th>\n",
              "      <th>Origin_japan</th>\n",
              "      <th>Origin_usa</th>\n",
              "    </tr>\n",
              "  </thead>\n",
              "  <tbody>\n",
              "    <tr>\n",
              "      <th>0</th>\n",
              "      <td>18.0</td>\n",
              "      <td>8</td>\n",
              "      <td>307.0</td>\n",
              "      <td>130.0</td>\n",
              "      <td>3504</td>\n",
              "      <td>12.0</td>\n",
              "      <td>70</td>\n",
              "      <td>chevrolet chevelle malibu</td>\n",
              "      <td>0</td>\n",
              "      <td>0</td>\n",
              "      <td>1</td>\n",
              "    </tr>\n",
              "    <tr>\n",
              "      <th>1</th>\n",
              "      <td>15.0</td>\n",
              "      <td>8</td>\n",
              "      <td>350.0</td>\n",
              "      <td>165.0</td>\n",
              "      <td>3693</td>\n",
              "      <td>11.5</td>\n",
              "      <td>70</td>\n",
              "      <td>buick skylark 320</td>\n",
              "      <td>0</td>\n",
              "      <td>0</td>\n",
              "      <td>1</td>\n",
              "    </tr>\n",
              "    <tr>\n",
              "      <th>2</th>\n",
              "      <td>18.0</td>\n",
              "      <td>8</td>\n",
              "      <td>318.0</td>\n",
              "      <td>150.0</td>\n",
              "      <td>3436</td>\n",
              "      <td>11.0</td>\n",
              "      <td>70</td>\n",
              "      <td>plymouth satellite</td>\n",
              "      <td>0</td>\n",
              "      <td>0</td>\n",
              "      <td>1</td>\n",
              "    </tr>\n",
              "    <tr>\n",
              "      <th>3</th>\n",
              "      <td>16.0</td>\n",
              "      <td>8</td>\n",
              "      <td>304.0</td>\n",
              "      <td>150.0</td>\n",
              "      <td>3433</td>\n",
              "      <td>12.0</td>\n",
              "      <td>70</td>\n",
              "      <td>amc rebel sst</td>\n",
              "      <td>0</td>\n",
              "      <td>0</td>\n",
              "      <td>1</td>\n",
              "    </tr>\n",
              "    <tr>\n",
              "      <th>4</th>\n",
              "      <td>17.0</td>\n",
              "      <td>8</td>\n",
              "      <td>302.0</td>\n",
              "      <td>140.0</td>\n",
              "      <td>3449</td>\n",
              "      <td>10.5</td>\n",
              "      <td>70</td>\n",
              "      <td>ford torino</td>\n",
              "      <td>0</td>\n",
              "      <td>0</td>\n",
              "      <td>1</td>\n",
              "    </tr>\n",
              "    <tr>\n",
              "      <th>...</th>\n",
              "      <td>...</td>\n",
              "      <td>...</td>\n",
              "      <td>...</td>\n",
              "      <td>...</td>\n",
              "      <td>...</td>\n",
              "      <td>...</td>\n",
              "      <td>...</td>\n",
              "      <td>...</td>\n",
              "      <td>...</td>\n",
              "      <td>...</td>\n",
              "      <td>...</td>\n",
              "    </tr>\n",
              "    <tr>\n",
              "      <th>393</th>\n",
              "      <td>27.0</td>\n",
              "      <td>4</td>\n",
              "      <td>140.0</td>\n",
              "      <td>86.0</td>\n",
              "      <td>2790</td>\n",
              "      <td>15.6</td>\n",
              "      <td>82</td>\n",
              "      <td>ford mustang gl</td>\n",
              "      <td>0</td>\n",
              "      <td>0</td>\n",
              "      <td>1</td>\n",
              "    </tr>\n",
              "    <tr>\n",
              "      <th>394</th>\n",
              "      <td>44.0</td>\n",
              "      <td>4</td>\n",
              "      <td>97.0</td>\n",
              "      <td>52.0</td>\n",
              "      <td>2130</td>\n",
              "      <td>24.6</td>\n",
              "      <td>82</td>\n",
              "      <td>vw pickup</td>\n",
              "      <td>1</td>\n",
              "      <td>0</td>\n",
              "      <td>0</td>\n",
              "    </tr>\n",
              "    <tr>\n",
              "      <th>395</th>\n",
              "      <td>32.0</td>\n",
              "      <td>4</td>\n",
              "      <td>135.0</td>\n",
              "      <td>84.0</td>\n",
              "      <td>2295</td>\n",
              "      <td>11.6</td>\n",
              "      <td>82</td>\n",
              "      <td>dodge rampage</td>\n",
              "      <td>0</td>\n",
              "      <td>0</td>\n",
              "      <td>1</td>\n",
              "    </tr>\n",
              "    <tr>\n",
              "      <th>396</th>\n",
              "      <td>28.0</td>\n",
              "      <td>4</td>\n",
              "      <td>120.0</td>\n",
              "      <td>79.0</td>\n",
              "      <td>2625</td>\n",
              "      <td>18.6</td>\n",
              "      <td>82</td>\n",
              "      <td>ford ranger</td>\n",
              "      <td>0</td>\n",
              "      <td>0</td>\n",
              "      <td>1</td>\n",
              "    </tr>\n",
              "    <tr>\n",
              "      <th>397</th>\n",
              "      <td>31.0</td>\n",
              "      <td>4</td>\n",
              "      <td>119.0</td>\n",
              "      <td>82.0</td>\n",
              "      <td>2720</td>\n",
              "      <td>19.4</td>\n",
              "      <td>82</td>\n",
              "      <td>chevy s-10</td>\n",
              "      <td>0</td>\n",
              "      <td>0</td>\n",
              "      <td>1</td>\n",
              "    </tr>\n",
              "  </tbody>\n",
              "</table>\n",
              "<p>398 rows × 11 columns</p>\n",
              "</div>"
            ],
            "text/plain": [
              "      mpg  cylinders  displacement  ...  Origin_europe  Origin_japan  Origin_usa\n",
              "0    18.0          8         307.0  ...              0             0           1\n",
              "1    15.0          8         350.0  ...              0             0           1\n",
              "2    18.0          8         318.0  ...              0             0           1\n",
              "3    16.0          8         304.0  ...              0             0           1\n",
              "4    17.0          8         302.0  ...              0             0           1\n",
              "..    ...        ...           ...  ...            ...           ...         ...\n",
              "393  27.0          4         140.0  ...              0             0           1\n",
              "394  44.0          4          97.0  ...              1             0           0\n",
              "395  32.0          4         135.0  ...              0             0           1\n",
              "396  28.0          4         120.0  ...              0             0           1\n",
              "397  31.0          4         119.0  ...              0             0           1\n",
              "\n",
              "[398 rows x 11 columns]"
            ]
          },
          "metadata": {},
          "execution_count": 36
        }
      ]
    },
    {
      "cell_type": "markdown",
      "metadata": {
        "id": "ZE91cFqSZju-"
      },
      "source": [
        "\n",
        "\n",
        "---\n",
        "\n"
      ]
    },
    {
      "cell_type": "markdown",
      "metadata": {
        "id": "SduZGC5DZAvO"
      },
      "source": [
        "**👌👌👌 정리 해볼까요? 👌👌👌**\n",
        "\n"
      ]
    },
    {
      "cell_type": "markdown",
      "metadata": {
        "id": "ugpuazvaaDL_"
      },
      "source": [
        "</br>  \n",
        "\n",
        "<img src='https://ifh.cc/g/COLTOP.png'  width=\"575px;\" height=\"400px;\" border='0'>"
      ]
    },
    {
      "cell_type": "markdown",
      "metadata": {
        "id": "-ORJeJ5RvykU"
      },
      "source": [
        "<img src='https://ifh.cc/g/IGvnbQ.jpg' border='0'>"
      ]
    },
    {
      "cell_type": "markdown",
      "metadata": {
        "id": "wx1iic4-908_"
      },
      "source": [
        "### 📌 **Step3. Test / Train data split**\n",
        "\n",
        "</br>\n",
        "\n",
        "**Train 데이터셋과 Test 데이터셋 분리**에 대한 개념을 이해하기 위해 대학 수능 시험 공부를 예시로 들어보겠습니다. \n",
        "\n",
        "</br>\n",
        "\n",
        "수험생들은 당해 수능에 대비하기 위해 그 전년도까지의 수능 기출문제를 공부합니다 📝📝  \n",
        "\n",
        "만약 '19년도 기출문제만 반복해서 공부한 후 **똑같은** 문제를 풀었더니 100점이 나왔다고 해서, 그게 정말 내 '수능 성적'일까요?  \n",
        "진짜 실력이라기 보다는 단순히 답이 기억나서 점수가 높게 나온 것이겠죠? ❌🚫⛔❗  \n",
        "\n",
        "정확한 내 실력을 평가하기 위해서는,  \n",
        "**한 번도 보지못한** 기출문제로 평가를 해야할 것입니다. \n",
        "\n",
        "</br>\n",
        "\n",
        "🧐기계학습도 마찬가지로! 모델 성능을 정확한 평가하려면,  \n",
        "공부(Train)에는 사용되지 않고 **오로지 평가에만 사용되는 TEST 데이터가 필요**합니다.  \n",
        "\n",
        "학습에 사용된 데이터로 평가를 하게 된다면,  \n",
        "기계학습 모델이 수능문제를 푸는 지식과 요령을 제대로 학습한 것인지,  \n",
        "아니면 단순히 문제의 답을 외워서 점수가 높은 것인지 분간이 되지 않기 때문입니다.  \n",
        "\n",
        "</br>\n",
        "\n",
        ">⛹️‍♀️ **학습**을 위한 데이터 집합 : **Train Set**  \n",
        "🥇 성능 **검증**을 위한 데이터 집합 : **Test Set**  \n",
        "\n",
        "</br>\n",
        "\n",
        "<img src='https://ifh.cc/g/6Y6V3r.jpg' border='0'>\n",
        "\n",
        "</br>"
      ]
    },
    {
      "cell_type": "markdown",
      "metadata": {
        "id": "UrXYNgxIAZFf"
      },
      "source": [
        "👍 Kaggle의 데이터셋 대부분은 Train set과 Test set이 분리되어 제공됩니다. \n",
        "(*titanic_dataset도 마찬가지!) \n",
        "\n",
        "</br>\n",
        "\n",
        "![대체 텍스트](https://i.ibb.co/GJ8rrKW/Screen-Shot-2020-03-05-at-6-25-07-PM.png)"
      ]
    },
    {
      "cell_type": "markdown",
      "metadata": {
        "id": "-C4KRJvS9gNi"
      },
      "source": [
        "\n",
        "\n",
        "---\n",
        "\n"
      ]
    },
    {
      "cell_type": "markdown",
      "metadata": {
        "id": "McwupbD297Qi"
      },
      "source": [
        "####**🤔 만약 Test set이 제공되지 않는다면?**"
      ]
    },
    {
      "cell_type": "markdown",
      "metadata": {
        "id": "uhsgYMfWCmvq"
      },
      "source": [
        "👉 하나의 Data set을 Train set과 Test set으로 나눠줘야 합니다.\n",
        "\n",
        "> Scikit-learn 의 함수를 사용하여 Train set을 나눠서 사용할 수 있습니다.  \n",
        "> 🔍 tips dataset으로 연습\n"
      ]
    },
    {
      "cell_type": "code",
      "metadata": {
        "id": "sZgiFac8EHE1",
        "colab": {
          "base_uri": "https://localhost:8080/",
          "height": 414
        },
        "outputId": "d870e898-dd65-46ac-836d-e92ac04f3155"
      },
      "source": [
        "tips  # 원본 데이터 확인해보기"
      ],
      "execution_count": null,
      "outputs": [
        {
          "output_type": "execute_result",
          "data": {
            "text/html": [
              "<div>\n",
              "<style scoped>\n",
              "    .dataframe tbody tr th:only-of-type {\n",
              "        vertical-align: middle;\n",
              "    }\n",
              "\n",
              "    .dataframe tbody tr th {\n",
              "        vertical-align: top;\n",
              "    }\n",
              "\n",
              "    .dataframe thead th {\n",
              "        text-align: right;\n",
              "    }\n",
              "</style>\n",
              "<table border=\"1\" class=\"dataframe\">\n",
              "  <thead>\n",
              "    <tr style=\"text-align: right;\">\n",
              "      <th></th>\n",
              "      <th>total_bill</th>\n",
              "      <th>tip</th>\n",
              "      <th>sex</th>\n",
              "      <th>smoker</th>\n",
              "      <th>day</th>\n",
              "      <th>time</th>\n",
              "      <th>size</th>\n",
              "    </tr>\n",
              "  </thead>\n",
              "  <tbody>\n",
              "    <tr>\n",
              "      <th>0</th>\n",
              "      <td>16.99</td>\n",
              "      <td>1.01</td>\n",
              "      <td>1</td>\n",
              "      <td>0</td>\n",
              "      <td>Sun</td>\n",
              "      <td>Dinner</td>\n",
              "      <td>2</td>\n",
              "    </tr>\n",
              "    <tr>\n",
              "      <th>1</th>\n",
              "      <td>10.34</td>\n",
              "      <td>1.66</td>\n",
              "      <td>0</td>\n",
              "      <td>0</td>\n",
              "      <td>Sun</td>\n",
              "      <td>Dinner</td>\n",
              "      <td>3</td>\n",
              "    </tr>\n",
              "    <tr>\n",
              "      <th>2</th>\n",
              "      <td>21.01</td>\n",
              "      <td>3.50</td>\n",
              "      <td>0</td>\n",
              "      <td>0</td>\n",
              "      <td>Sun</td>\n",
              "      <td>Dinner</td>\n",
              "      <td>3</td>\n",
              "    </tr>\n",
              "    <tr>\n",
              "      <th>3</th>\n",
              "      <td>23.68</td>\n",
              "      <td>3.31</td>\n",
              "      <td>0</td>\n",
              "      <td>0</td>\n",
              "      <td>Sun</td>\n",
              "      <td>Dinner</td>\n",
              "      <td>2</td>\n",
              "    </tr>\n",
              "    <tr>\n",
              "      <th>4</th>\n",
              "      <td>24.59</td>\n",
              "      <td>3.61</td>\n",
              "      <td>1</td>\n",
              "      <td>0</td>\n",
              "      <td>Sun</td>\n",
              "      <td>Dinner</td>\n",
              "      <td>4</td>\n",
              "    </tr>\n",
              "    <tr>\n",
              "      <th>...</th>\n",
              "      <td>...</td>\n",
              "      <td>...</td>\n",
              "      <td>...</td>\n",
              "      <td>...</td>\n",
              "      <td>...</td>\n",
              "      <td>...</td>\n",
              "      <td>...</td>\n",
              "    </tr>\n",
              "    <tr>\n",
              "      <th>239</th>\n",
              "      <td>29.03</td>\n",
              "      <td>5.92</td>\n",
              "      <td>0</td>\n",
              "      <td>0</td>\n",
              "      <td>Sat</td>\n",
              "      <td>Dinner</td>\n",
              "      <td>3</td>\n",
              "    </tr>\n",
              "    <tr>\n",
              "      <th>240</th>\n",
              "      <td>27.18</td>\n",
              "      <td>2.00</td>\n",
              "      <td>1</td>\n",
              "      <td>1</td>\n",
              "      <td>Sat</td>\n",
              "      <td>Dinner</td>\n",
              "      <td>2</td>\n",
              "    </tr>\n",
              "    <tr>\n",
              "      <th>241</th>\n",
              "      <td>22.67</td>\n",
              "      <td>2.00</td>\n",
              "      <td>0</td>\n",
              "      <td>1</td>\n",
              "      <td>Sat</td>\n",
              "      <td>Dinner</td>\n",
              "      <td>2</td>\n",
              "    </tr>\n",
              "    <tr>\n",
              "      <th>242</th>\n",
              "      <td>17.82</td>\n",
              "      <td>1.75</td>\n",
              "      <td>0</td>\n",
              "      <td>0</td>\n",
              "      <td>Sat</td>\n",
              "      <td>Dinner</td>\n",
              "      <td>2</td>\n",
              "    </tr>\n",
              "    <tr>\n",
              "      <th>243</th>\n",
              "      <td>18.78</td>\n",
              "      <td>3.00</td>\n",
              "      <td>1</td>\n",
              "      <td>0</td>\n",
              "      <td>Thur</td>\n",
              "      <td>Dinner</td>\n",
              "      <td>2</td>\n",
              "    </tr>\n",
              "  </tbody>\n",
              "</table>\n",
              "<p>244 rows × 7 columns</p>\n",
              "</div>"
            ],
            "text/plain": [
              "     total_bill   tip sex smoker   day    time  size\n",
              "0         16.99  1.01   1      0   Sun  Dinner     2\n",
              "1         10.34  1.66   0      0   Sun  Dinner     3\n",
              "2         21.01  3.50   0      0   Sun  Dinner     3\n",
              "3         23.68  3.31   0      0   Sun  Dinner     2\n",
              "4         24.59  3.61   1      0   Sun  Dinner     4\n",
              "..          ...   ...  ..    ...   ...     ...   ...\n",
              "239       29.03  5.92   0      0   Sat  Dinner     3\n",
              "240       27.18  2.00   1      1   Sat  Dinner     2\n",
              "241       22.67  2.00   0      1   Sat  Dinner     2\n",
              "242       17.82  1.75   0      0   Sat  Dinner     2\n",
              "243       18.78  3.00   1      0  Thur  Dinner     2\n",
              "\n",
              "[244 rows x 7 columns]"
            ]
          },
          "metadata": {},
          "execution_count": 47
        }
      ]
    },
    {
      "cell_type": "code",
      "metadata": {
        "id": "ZkfiEuLeElOF",
        "colab": {
          "base_uri": "https://localhost:8080/"
        },
        "outputId": "9ba1863d-815c-4248-8e1f-7d6502491369"
      },
      "source": [
        "tips['total_bill']    # y값을 의미하는 label 찾기"
      ],
      "execution_count": null,
      "outputs": [
        {
          "output_type": "execute_result",
          "data": {
            "text/plain": [
              "0      16.99\n",
              "1      10.34\n",
              "2      21.01\n",
              "3      23.68\n",
              "4      24.59\n",
              "       ...  \n",
              "239    29.03\n",
              "240    27.18\n",
              "241    22.67\n",
              "242    17.82\n",
              "243    18.78\n",
              "Name: total_bill, Length: 244, dtype: float64"
            ]
          },
          "metadata": {},
          "execution_count": 44
        }
      ]
    },
    {
      "cell_type": "markdown",
      "metadata": {
        "id": "qFRuepA06eCA"
      },
      "source": [
        "</br>"
      ]
    },
    {
      "cell_type": "markdown",
      "metadata": {
        "id": "-D5XfjyXztil"
      },
      "source": [
        "#### 🔍 Scikit-learn 패키지를 사용하여 Train / Test 셋 분리하기\n",
        "- `train_test_split(arrays, test_size, train_size, random_state, shuffle, stratify)`의 매개변수(parameter)\n",
        "```\n",
        "arrays : 분할시킬 데이터를 입력 (Python list, Numpy array, Pandas dataframe 등..)\n",
        "test_size : 테스트 데이터셋의 비율(float)이나 갯수(int) (default = 0.25)\n",
        "train_size : 학습 데이터셋의 비율(float)이나 갯수(int) (default = test_size의 나머지)\n",
        "random_state : 데이터 분할시 셔플이 이루어지는데 이를 기억하기 위한 임의의 시드값 (int나 RandomState로 입력)\n",
        "shuffle : 셔플여부설정 (default = True)\n",
        "stratify : 지정한 Data의 비율을 유지한다. 예를 들어, Label Set인 Y가 25%의 0과 75%의 1로 이루어진 Binary Set일 때,\n",
        "            stratify=Y로 설정하면 나누어진 데이터셋들도 0과 1을 각각 25%, 75%로 유지한 채 분할된다.\n",
        "```\n",
        "\n",
        "- 예제\n",
        "\n",
        "```\n",
        "import numpy as np\n",
        "from sklearn.model_selection import train_test_split \n",
        "\n",
        "X = [[0,1],[2,3],[4,5],[6,7],[8,9]]\n",
        "Y = [0,1,2,3,4]\n",
        "\n",
        "# 데이터(X)만 넣었을 경우\n",
        "X_train, X_test = train_test_split(X, test_size=0.2, random_state=123)\n",
        "# X_train : [[0,1],[6,7],[8,9],[2,3]]\n",
        "# X_test : [[4,5]]\n",
        "\n",
        "# 데이터(X)와 레이블(Y)을 넣었을 경우\n",
        "X_train, X_test, Y_train, Y_test = train_test_split(X, Y, test_size=0.33, random_state=321)\n",
        "# X_train : [[4,5],[0,1],[6,7]]\n",
        "# Y_train : [2,0,3]\n",
        "# X_test : [[2,3],[8,9]]\n",
        "# Y_test : [1,4]\n",
        "```\n",
        "\n",
        "⭐괄호() 안에 들어가는 인자 중 x,y 변수의 순서에 주의하세요⭐"
      ]
    },
    {
      "cell_type": "code",
      "metadata": {
        "id": "yYn_4llV2CIL"
      },
      "source": [
        "from sklearn.model_selection import train_test_split"
      ],
      "execution_count": null,
      "outputs": []
    },
    {
      "cell_type": "code",
      "metadata": {
        "id": "ga1EUEVPDB-8"
      },
      "source": [
        "# 우선 나눌 input array x 와 output array y 를 정의합니다\n",
        "\n",
        "x = tips.drop('total_bill',axis=1)\n",
        "y = tips['total_bill']\n",
        "xTrain, xTest, yTrain, yTest = train_test_split(x,y, test_size=0.2, random_state=1, shuffle=True) # 20%만 잘라서 test 로 만듭니다."
      ],
      "execution_count": null,
      "outputs": []
    },
    {
      "cell_type": "code",
      "metadata": {
        "colab": {
          "base_uri": "https://localhost:8080/"
        },
        "id": "Ss-ILCWY3ROP",
        "outputId": "1ac1965b-5313-403c-8236-f493a79d93ba"
      },
      "source": [
        "tips.shape"
      ],
      "execution_count": null,
      "outputs": [
        {
          "output_type": "execute_result",
          "data": {
            "text/plain": [
              "(244, 7)"
            ]
          },
          "metadata": {},
          "execution_count": 68
        }
      ]
    },
    {
      "cell_type": "code",
      "metadata": {
        "id": "G_uOwi0gFD0v",
        "colab": {
          "base_uri": "https://localhost:8080/",
          "height": 202
        },
        "outputId": "408c3171-109d-4d51-990a-876e010464d9"
      },
      "source": [
        "xTrain.head(5)    # 훈련셋 잘 분리 되었는지 항상 체크해보기!! 셀 단위 실행의 장점입니다 ^0^"
      ],
      "execution_count": null,
      "outputs": [
        {
          "output_type": "execute_result",
          "data": {
            "text/html": [
              "<div>\n",
              "<style scoped>\n",
              "    .dataframe tbody tr th:only-of-type {\n",
              "        vertical-align: middle;\n",
              "    }\n",
              "\n",
              "    .dataframe tbody tr th {\n",
              "        vertical-align: top;\n",
              "    }\n",
              "\n",
              "    .dataframe thead th {\n",
              "        text-align: right;\n",
              "    }\n",
              "</style>\n",
              "<table border=\"1\" class=\"dataframe\">\n",
              "  <thead>\n",
              "    <tr style=\"text-align: right;\">\n",
              "      <th></th>\n",
              "      <th>tip</th>\n",
              "      <th>sex</th>\n",
              "      <th>smoker</th>\n",
              "      <th>day</th>\n",
              "      <th>time</th>\n",
              "      <th>size</th>\n",
              "    </tr>\n",
              "  </thead>\n",
              "  <tbody>\n",
              "    <tr>\n",
              "      <th>0</th>\n",
              "      <td>1.01</td>\n",
              "      <td>1</td>\n",
              "      <td>0</td>\n",
              "      <td>Sun</td>\n",
              "      <td>Dinner</td>\n",
              "      <td>2</td>\n",
              "    </tr>\n",
              "    <tr>\n",
              "      <th>154</th>\n",
              "      <td>2.00</td>\n",
              "      <td>0</td>\n",
              "      <td>0</td>\n",
              "      <td>Sun</td>\n",
              "      <td>Dinner</td>\n",
              "      <td>4</td>\n",
              "    </tr>\n",
              "    <tr>\n",
              "      <th>167</th>\n",
              "      <td>4.50</td>\n",
              "      <td>0</td>\n",
              "      <td>0</td>\n",
              "      <td>Sun</td>\n",
              "      <td>Dinner</td>\n",
              "      <td>4</td>\n",
              "    </tr>\n",
              "    <tr>\n",
              "      <th>110</th>\n",
              "      <td>3.00</td>\n",
              "      <td>0</td>\n",
              "      <td>0</td>\n",
              "      <td>Sat</td>\n",
              "      <td>Dinner</td>\n",
              "      <td>2</td>\n",
              "    </tr>\n",
              "    <tr>\n",
              "      <th>225</th>\n",
              "      <td>2.50</td>\n",
              "      <td>1</td>\n",
              "      <td>1</td>\n",
              "      <td>Fri</td>\n",
              "      <td>Lunch</td>\n",
              "      <td>2</td>\n",
              "    </tr>\n",
              "  </tbody>\n",
              "</table>\n",
              "</div>"
            ],
            "text/plain": [
              "      tip sex smoker  day    time  size\n",
              "0    1.01   1      0  Sun  Dinner     2\n",
              "154  2.00   0      0  Sun  Dinner     4\n",
              "167  4.50   0      0  Sun  Dinner     4\n",
              "110  3.00   0      0  Sat  Dinner     2\n",
              "225  2.50   1      1  Fri   Lunch     2"
            ]
          },
          "metadata": {},
          "execution_count": 66
        }
      ]
    },
    {
      "cell_type": "code",
      "metadata": {
        "id": "gi0BMRP9FFjU",
        "colab": {
          "base_uri": "https://localhost:8080/",
          "height": 202
        },
        "outputId": "3024a97d-cc01-4667-be01-b31149cf3967"
      },
      "source": [
        "xTest.head(5)    # 테스트셋 확인해보기"
      ],
      "execution_count": null,
      "outputs": [
        {
          "output_type": "execute_result",
          "data": {
            "text/html": [
              "<div>\n",
              "<style scoped>\n",
              "    .dataframe tbody tr th:only-of-type {\n",
              "        vertical-align: middle;\n",
              "    }\n",
              "\n",
              "    .dataframe tbody tr th {\n",
              "        vertical-align: top;\n",
              "    }\n",
              "\n",
              "    .dataframe thead th {\n",
              "        text-align: right;\n",
              "    }\n",
              "</style>\n",
              "<table border=\"1\" class=\"dataframe\">\n",
              "  <thead>\n",
              "    <tr style=\"text-align: right;\">\n",
              "      <th></th>\n",
              "      <th>tip</th>\n",
              "      <th>sex</th>\n",
              "      <th>smoker</th>\n",
              "      <th>day</th>\n",
              "      <th>time</th>\n",
              "      <th>size</th>\n",
              "    </tr>\n",
              "  </thead>\n",
              "  <tbody>\n",
              "    <tr>\n",
              "      <th>67</th>\n",
              "      <td>1.00</td>\n",
              "      <td>1</td>\n",
              "      <td>1</td>\n",
              "      <td>Sat</td>\n",
              "      <td>Dinner</td>\n",
              "      <td>1</td>\n",
              "    </tr>\n",
              "    <tr>\n",
              "      <th>243</th>\n",
              "      <td>3.00</td>\n",
              "      <td>1</td>\n",
              "      <td>0</td>\n",
              "      <td>Thur</td>\n",
              "      <td>Dinner</td>\n",
              "      <td>2</td>\n",
              "    </tr>\n",
              "    <tr>\n",
              "      <th>206</th>\n",
              "      <td>3.41</td>\n",
              "      <td>0</td>\n",
              "      <td>1</td>\n",
              "      <td>Sat</td>\n",
              "      <td>Dinner</td>\n",
              "      <td>3</td>\n",
              "    </tr>\n",
              "    <tr>\n",
              "      <th>122</th>\n",
              "      <td>2.50</td>\n",
              "      <td>0</td>\n",
              "      <td>0</td>\n",
              "      <td>Thur</td>\n",
              "      <td>Lunch</td>\n",
              "      <td>2</td>\n",
              "    </tr>\n",
              "    <tr>\n",
              "      <th>89</th>\n",
              "      <td>3.00</td>\n",
              "      <td>0</td>\n",
              "      <td>0</td>\n",
              "      <td>Thur</td>\n",
              "      <td>Lunch</td>\n",
              "      <td>2</td>\n",
              "    </tr>\n",
              "  </tbody>\n",
              "</table>\n",
              "</div>"
            ],
            "text/plain": [
              "      tip sex smoker   day    time  size\n",
              "67   1.00   1      1   Sat  Dinner     1\n",
              "243  3.00   1      0  Thur  Dinner     2\n",
              "206  3.41   0      1   Sat  Dinner     3\n",
              "122  2.50   0      0  Thur   Lunch     2\n",
              "89   3.00   0      0  Thur   Lunch     2"
            ]
          },
          "metadata": {},
          "execution_count": 67
        }
      ]
    },
    {
      "cell_type": "markdown",
      "metadata": {
        "id": "aScUe9u99lqp"
      },
      "source": [
        "\n",
        "\n",
        "---\n",
        "\n"
      ]
    },
    {
      "cell_type": "markdown",
      "metadata": {
        "id": "JaIlQX78b70o"
      },
      "source": [
        "### **교차검증법(cross validation)**\n",
        "\n",
        "\n"
      ]
    },
    {
      "cell_type": "markdown",
      "metadata": {
        "id": "-yCCuqrBFPnh"
      },
      "source": [
        "#### Cross Validation 교차검증법 이용하기 \n",
        "\n",
        "> 🧨 데이터 수가 적을 때 발생하는 문제  \n",
        "   - 쪼갠 검증 데이터 수가 적기 때문에 검증 성능의 신뢰도가 떨어짐\n",
        "   - 검증 데이터셋 비율을 높힌다면, 학습 데이터셋 크기가 줄어들어 학습이 되지 않음  \n",
        "\n",
        "이 경우에 **Cross Validation** 이라는 교차검증법을 이용합니다.  \n",
        "보통 K-fold Cross Validation (k 겹 Cross Vlidatino) 을 많이 사용합니다. \n",
        "\n",
        "\n",
        "---\n",
        "\n",
        "\n",
        " K-fold Cross Validation\n",
        ">1) 데이터를 K 개의 집합으로 나눠,  \n",
        "2) 매번 한개의 집합을 Test 로 쓰고, 나머지를 학습에 사용합니다  \n",
        "3) 이때 나온 K 개의 정확도 지표를 평균을 내서 최종 평가지표로 사용합니다   \n",
        "✔ 주로 K = 5 를 많이 사용합니다 (오겹살 🐷)  \n",
        "✔ K = 10 도 종종 사용합니다 (그러나 K  가 10 이 넘어갈 정도면, 데이터셋이 split 해도될정도로 충분히 크다고 봄)  \n",
        "\n",
        "<img src='https://ifh.cc/g/TlQkBR.jpg' border='0'>"
      ]
    },
    {
      "cell_type": "code",
      "metadata": {
        "id": "3PItY7pLFOEe",
        "colab": {
          "base_uri": "https://localhost:8080/",
          "height": 414
        },
        "outputId": "84d8f16f-1d89-46e3-edc2-76e1eb8f9042"
      },
      "source": [
        "iris = sns.load_dataset('iris')   # 데이터셋 불러오기\n",
        "iris"
      ],
      "execution_count": null,
      "outputs": [
        {
          "output_type": "execute_result",
          "data": {
            "text/html": [
              "<div>\n",
              "<style scoped>\n",
              "    .dataframe tbody tr th:only-of-type {\n",
              "        vertical-align: middle;\n",
              "    }\n",
              "\n",
              "    .dataframe tbody tr th {\n",
              "        vertical-align: top;\n",
              "    }\n",
              "\n",
              "    .dataframe thead th {\n",
              "        text-align: right;\n",
              "    }\n",
              "</style>\n",
              "<table border=\"1\" class=\"dataframe\">\n",
              "  <thead>\n",
              "    <tr style=\"text-align: right;\">\n",
              "      <th></th>\n",
              "      <th>sepal_length</th>\n",
              "      <th>sepal_width</th>\n",
              "      <th>petal_length</th>\n",
              "      <th>petal_width</th>\n",
              "      <th>species</th>\n",
              "    </tr>\n",
              "  </thead>\n",
              "  <tbody>\n",
              "    <tr>\n",
              "      <th>0</th>\n",
              "      <td>5.1</td>\n",
              "      <td>3.5</td>\n",
              "      <td>1.4</td>\n",
              "      <td>0.2</td>\n",
              "      <td>setosa</td>\n",
              "    </tr>\n",
              "    <tr>\n",
              "      <th>1</th>\n",
              "      <td>4.9</td>\n",
              "      <td>3.0</td>\n",
              "      <td>1.4</td>\n",
              "      <td>0.2</td>\n",
              "      <td>setosa</td>\n",
              "    </tr>\n",
              "    <tr>\n",
              "      <th>2</th>\n",
              "      <td>4.7</td>\n",
              "      <td>3.2</td>\n",
              "      <td>1.3</td>\n",
              "      <td>0.2</td>\n",
              "      <td>setosa</td>\n",
              "    </tr>\n",
              "    <tr>\n",
              "      <th>3</th>\n",
              "      <td>4.6</td>\n",
              "      <td>3.1</td>\n",
              "      <td>1.5</td>\n",
              "      <td>0.2</td>\n",
              "      <td>setosa</td>\n",
              "    </tr>\n",
              "    <tr>\n",
              "      <th>4</th>\n",
              "      <td>5.0</td>\n",
              "      <td>3.6</td>\n",
              "      <td>1.4</td>\n",
              "      <td>0.2</td>\n",
              "      <td>setosa</td>\n",
              "    </tr>\n",
              "    <tr>\n",
              "      <th>...</th>\n",
              "      <td>...</td>\n",
              "      <td>...</td>\n",
              "      <td>...</td>\n",
              "      <td>...</td>\n",
              "      <td>...</td>\n",
              "    </tr>\n",
              "    <tr>\n",
              "      <th>145</th>\n",
              "      <td>6.7</td>\n",
              "      <td>3.0</td>\n",
              "      <td>5.2</td>\n",
              "      <td>2.3</td>\n",
              "      <td>virginica</td>\n",
              "    </tr>\n",
              "    <tr>\n",
              "      <th>146</th>\n",
              "      <td>6.3</td>\n",
              "      <td>2.5</td>\n",
              "      <td>5.0</td>\n",
              "      <td>1.9</td>\n",
              "      <td>virginica</td>\n",
              "    </tr>\n",
              "    <tr>\n",
              "      <th>147</th>\n",
              "      <td>6.5</td>\n",
              "      <td>3.0</td>\n",
              "      <td>5.2</td>\n",
              "      <td>2.0</td>\n",
              "      <td>virginica</td>\n",
              "    </tr>\n",
              "    <tr>\n",
              "      <th>148</th>\n",
              "      <td>6.2</td>\n",
              "      <td>3.4</td>\n",
              "      <td>5.4</td>\n",
              "      <td>2.3</td>\n",
              "      <td>virginica</td>\n",
              "    </tr>\n",
              "    <tr>\n",
              "      <th>149</th>\n",
              "      <td>5.9</td>\n",
              "      <td>3.0</td>\n",
              "      <td>5.1</td>\n",
              "      <td>1.8</td>\n",
              "      <td>virginica</td>\n",
              "    </tr>\n",
              "  </tbody>\n",
              "</table>\n",
              "<p>150 rows × 5 columns</p>\n",
              "</div>"
            ],
            "text/plain": [
              "     sepal_length  sepal_width  petal_length  petal_width    species\n",
              "0             5.1          3.5           1.4          0.2     setosa\n",
              "1             4.9          3.0           1.4          0.2     setosa\n",
              "2             4.7          3.2           1.3          0.2     setosa\n",
              "3             4.6          3.1           1.5          0.2     setosa\n",
              "4             5.0          3.6           1.4          0.2     setosa\n",
              "..            ...          ...           ...          ...        ...\n",
              "145           6.7          3.0           5.2          2.3  virginica\n",
              "146           6.3          2.5           5.0          1.9  virginica\n",
              "147           6.5          3.0           5.2          2.0  virginica\n",
              "148           6.2          3.4           5.4          2.3  virginica\n",
              "149           5.9          3.0           5.1          1.8  virginica\n",
              "\n",
              "[150 rows x 5 columns]"
            ]
          },
          "metadata": {},
          "execution_count": 70
        }
      ]
    },
    {
      "cell_type": "code",
      "metadata": {
        "id": "w8uVXWdPLyo7",
        "colab": {
          "base_uri": "https://localhost:8080/"
        },
        "outputId": "8bcef32f-9e0d-4edf-d6d1-9a9343d5fcf1"
      },
      "source": [
        "x = iris.drop('species', axis=1)\n",
        "y = iris['species'].map({'setosa':1, 'versicolor':2, 'virginica':3})\n",
        "\n",
        "print(x)\n",
        "print(y)"
      ],
      "execution_count": null,
      "outputs": [
        {
          "output_type": "stream",
          "name": "stdout",
          "text": [
            "     sepal_length  sepal_width  petal_length  petal_width\n",
            "0             5.1          3.5           1.4          0.2\n",
            "1             4.9          3.0           1.4          0.2\n",
            "2             4.7          3.2           1.3          0.2\n",
            "3             4.6          3.1           1.5          0.2\n",
            "4             5.0          3.6           1.4          0.2\n",
            "..            ...          ...           ...          ...\n",
            "145           6.7          3.0           5.2          2.3\n",
            "146           6.3          2.5           5.0          1.9\n",
            "147           6.5          3.0           5.2          2.0\n",
            "148           6.2          3.4           5.4          2.3\n",
            "149           5.9          3.0           5.1          1.8\n",
            "\n",
            "[150 rows x 4 columns]\n",
            "0      1\n",
            "1      1\n",
            "2      1\n",
            "3      1\n",
            "4      1\n",
            "      ..\n",
            "145    3\n",
            "146    3\n",
            "147    3\n",
            "148    3\n",
            "149    3\n",
            "Name: species, Length: 150, dtype: int64\n"
          ]
        }
      ]
    },
    {
      "cell_type": "markdown",
      "metadata": {
        "id": "2IguDeJW4Id1"
      },
      "source": [
        "실제로 cross validation을 사용해서 머신러닝을 해보도록 하겠습니다!!\n",
        "> - `cross_val_score(모델,x,y,cv=k개)`"
      ]
    },
    {
      "cell_type": "code",
      "metadata": {
        "id": "i209o1UsFM4v",
        "colab": {
          "base_uri": "https://localhost:8080/"
        },
        "outputId": "5d51a107-829d-4065-b2d0-a8a57576ba2f"
      },
      "source": [
        "from sklearn.linear_model import LogisticRegression\n",
        "from sklearn.model_selection import cross_val_score\n",
        "\n",
        "model = LogisticRegression(max_iter=1000)     # 모델은 다음 시간에 설명합니다. 넘어가기!\n",
        "scores = cross_val_score(model,x,y,cv=5)     # cv 는 cross validation의 약자입니다\n",
        "\n",
        "print(scores)\n",
        "print(scores.mean())                         # 정확도까지만 보고 넘어가기!"
      ],
      "execution_count": null,
      "outputs": [
        {
          "output_type": "stream",
          "name": "stdout",
          "text": [
            "[0.96666667 1.         0.93333333 0.96666667 1.        ]\n",
            "0.9733333333333334\n"
          ]
        }
      ]
    },
    {
      "cell_type": "markdown",
      "metadata": {
        "id": "Hyn1tdSatSBF"
      },
      "source": [
        "####**✍ score 는 무슨 기준으로 판별하는 건가요?**\n",
        "\n",
        "</br>  \n",
        "\n",
        "score 은 scikitlearn 의 metrics.accuracy_score 에 의해서 계산됩니다.\n",
        "\n",
        "<img src = \"https://1.bp.blogspot.com/-LKcvhNPrpuo/XqaLxt7AIvI/AAAAAAAAAUI/6dADzp9Q-9cNWExBXEW4LQj4aWYiRFrHQCLcBGAsYHQ/s1600/%25E1%2584%2589%25E1%2585%25B3%25E1%2584%258F%25E1%2585%25B3%25E1%2584%2585%25E1%2585%25B5%25E1%2586%25AB%25E1%2584%2589%25E1%2585%25A3%25E1%2586%25BA%2B2020-04-27%2B%25E1%2584%258B%25E1%2585%25A9%25E1%2584%2592%25E1%2585%25AE%2B4.36.25.png\" width = \"800\">\n",
        "\n",
        "</br>  \n",
        "\n",
        "정확도를 기준으로 계산되며,   \n",
        "예측값 (pred) 과 실제값 (y_true) 이 정확하게 일치할 때 1 값을 가지고,   \n",
        "반만 맞을 경우 0.5와 같은 식으로 확률로 반환됩니다. \n",
        "\n",
        "\n"
      ]
    },
    {
      "cell_type": "markdown",
      "metadata": {
        "id": "Sc9lB2AQcI_P"
      },
      "source": [
        "### **2-② 추가 실습예제**"
      ]
    },
    {
      "cell_type": "markdown",
      "metadata": {
        "id": "pOQZMcKhRAKC"
      },
      "source": [
        "#### 숙제 : test셋과 train셋의 분리 연습\n",
        "다음 시간에는 'titanic dataset'을 심도있게 다룰 예정입니다.  \n",
        "본격적으로 시작하기 전!! 🐬데이터 다이빙🐬 여러분이 직접 test셋과 train셋을 분리해보도록 하겠습니다.\n",
        "> - 타이타닉 데이터셋을 seaborn이 아닌, 본인 계정에서 gdrive 경로를 통해 불러오세요.\n",
        "- y라는 변수를 만들고 생존에 대한 열을 선언하세요.\n",
        "- x라는 변수에 label을 제외한 열들을 선언하세요.\n",
        "- z라는 변수에 'age'열을 담은 뒤, 비어있는 값이 있는 행을 제거하고, 배운 내용을 토대로 다양하게 해당 열을 시각화해보세요.\n"
      ]
    },
    {
      "cell_type": "code",
      "metadata": {
        "id": "r2M7TjR1VvoA",
        "colab": {
          "base_uri": "https://localhost:8080/",
          "height": 161
        },
        "outputId": "756a6f70-e90e-499e-f779-c71be742e70f"
      },
      "source": [
        "# 여기에!! 파이팅!!!!\n",
        "\n",
        "titanic = sns.load_dataset('titanic')\n",
        "titanic.head(3)"
      ],
      "execution_count": null,
      "outputs": [
        {
          "output_type": "execute_result",
          "data": {
            "text/html": [
              "<div>\n",
              "<style scoped>\n",
              "    .dataframe tbody tr th:only-of-type {\n",
              "        vertical-align: middle;\n",
              "    }\n",
              "\n",
              "    .dataframe tbody tr th {\n",
              "        vertical-align: top;\n",
              "    }\n",
              "\n",
              "    .dataframe thead th {\n",
              "        text-align: right;\n",
              "    }\n",
              "</style>\n",
              "<table border=\"1\" class=\"dataframe\">\n",
              "  <thead>\n",
              "    <tr style=\"text-align: right;\">\n",
              "      <th></th>\n",
              "      <th>survived</th>\n",
              "      <th>pclass</th>\n",
              "      <th>sex</th>\n",
              "      <th>age</th>\n",
              "      <th>sibsp</th>\n",
              "      <th>parch</th>\n",
              "      <th>fare</th>\n",
              "      <th>embarked</th>\n",
              "      <th>class</th>\n",
              "      <th>who</th>\n",
              "      <th>adult_male</th>\n",
              "      <th>deck</th>\n",
              "      <th>embark_town</th>\n",
              "      <th>alive</th>\n",
              "      <th>alone</th>\n",
              "    </tr>\n",
              "  </thead>\n",
              "  <tbody>\n",
              "    <tr>\n",
              "      <th>0</th>\n",
              "      <td>0</td>\n",
              "      <td>3</td>\n",
              "      <td>male</td>\n",
              "      <td>22.0</td>\n",
              "      <td>1</td>\n",
              "      <td>0</td>\n",
              "      <td>7.2500</td>\n",
              "      <td>S</td>\n",
              "      <td>Third</td>\n",
              "      <td>man</td>\n",
              "      <td>True</td>\n",
              "      <td>NaN</td>\n",
              "      <td>Southampton</td>\n",
              "      <td>no</td>\n",
              "      <td>False</td>\n",
              "    </tr>\n",
              "    <tr>\n",
              "      <th>1</th>\n",
              "      <td>1</td>\n",
              "      <td>1</td>\n",
              "      <td>female</td>\n",
              "      <td>38.0</td>\n",
              "      <td>1</td>\n",
              "      <td>0</td>\n",
              "      <td>71.2833</td>\n",
              "      <td>C</td>\n",
              "      <td>First</td>\n",
              "      <td>woman</td>\n",
              "      <td>False</td>\n",
              "      <td>C</td>\n",
              "      <td>Cherbourg</td>\n",
              "      <td>yes</td>\n",
              "      <td>False</td>\n",
              "    </tr>\n",
              "    <tr>\n",
              "      <th>2</th>\n",
              "      <td>1</td>\n",
              "      <td>3</td>\n",
              "      <td>female</td>\n",
              "      <td>26.0</td>\n",
              "      <td>0</td>\n",
              "      <td>0</td>\n",
              "      <td>7.9250</td>\n",
              "      <td>S</td>\n",
              "      <td>Third</td>\n",
              "      <td>woman</td>\n",
              "      <td>False</td>\n",
              "      <td>NaN</td>\n",
              "      <td>Southampton</td>\n",
              "      <td>yes</td>\n",
              "      <td>True</td>\n",
              "    </tr>\n",
              "  </tbody>\n",
              "</table>\n",
              "</div>"
            ],
            "text/plain": [
              "   survived  pclass     sex   age  ...  deck  embark_town  alive  alone\n",
              "0         0       3    male  22.0  ...   NaN  Southampton     no  False\n",
              "1         1       1  female  38.0  ...     C    Cherbourg    yes  False\n",
              "2         1       3  female  26.0  ...   NaN  Southampton    yes   True\n",
              "\n",
              "[3 rows x 15 columns]"
            ]
          },
          "metadata": {},
          "execution_count": 76
        }
      ]
    },
    {
      "cell_type": "code",
      "metadata": {
        "id": "vsMqqQ3p-L_x"
      },
      "source": [
        "titanic_age = titanic['age']"
      ],
      "execution_count": null,
      "outputs": []
    },
    {
      "cell_type": "code",
      "metadata": {
        "colab": {
          "base_uri": "https://localhost:8080/"
        },
        "id": "52kCjTts-UEO",
        "outputId": "de1a0bf4-4937-402f-8a17-0df0cb13e394"
      },
      "source": [
        "titanic_age.isna().sum()"
      ],
      "execution_count": null,
      "outputs": [
        {
          "output_type": "execute_result",
          "data": {
            "text/plain": [
              "177"
            ]
          },
          "metadata": {},
          "execution_count": 81
        }
      ]
    },
    {
      "cell_type": "code",
      "metadata": {
        "id": "DrIvXko2-aa8"
      },
      "source": [
        "titanic_age.dropna(axis=0)"
      ],
      "execution_count": null,
      "outputs": []
    },
    {
      "cell_type": "code",
      "metadata": {
        "id": "InWLN_UX7XsE"
      },
      "source": [
        "x = titanic\n",
        "y = titanic['survived']\n",
        "\n",
        "xTrain, xTest, yTrain, yTest = train_test_split(x,y, test_size=0.2)\n"
      ],
      "execution_count": null,
      "outputs": []
    },
    {
      "cell_type": "code",
      "metadata": {
        "colab": {
          "base_uri": "https://localhost:8080/",
          "height": 222
        },
        "id": "Bto39WF28kxe",
        "outputId": "d53a6661-2467-41ae-9df4-aa9f1cb3c9f6"
      },
      "source": [
        "xTrain.head(5)"
      ],
      "execution_count": null,
      "outputs": [
        {
          "output_type": "execute_result",
          "data": {
            "text/html": [
              "<div>\n",
              "<style scoped>\n",
              "    .dataframe tbody tr th:only-of-type {\n",
              "        vertical-align: middle;\n",
              "    }\n",
              "\n",
              "    .dataframe tbody tr th {\n",
              "        vertical-align: top;\n",
              "    }\n",
              "\n",
              "    .dataframe thead th {\n",
              "        text-align: right;\n",
              "    }\n",
              "</style>\n",
              "<table border=\"1\" class=\"dataframe\">\n",
              "  <thead>\n",
              "    <tr style=\"text-align: right;\">\n",
              "      <th></th>\n",
              "      <th>survived</th>\n",
              "      <th>pclass</th>\n",
              "      <th>sex</th>\n",
              "      <th>age</th>\n",
              "      <th>sibsp</th>\n",
              "      <th>parch</th>\n",
              "      <th>fare</th>\n",
              "      <th>embarked</th>\n",
              "      <th>class</th>\n",
              "      <th>who</th>\n",
              "      <th>adult_male</th>\n",
              "      <th>deck</th>\n",
              "      <th>embark_town</th>\n",
              "      <th>alive</th>\n",
              "      <th>alone</th>\n",
              "    </tr>\n",
              "  </thead>\n",
              "  <tbody>\n",
              "    <tr>\n",
              "      <th>145</th>\n",
              "      <td>0</td>\n",
              "      <td>2</td>\n",
              "      <td>male</td>\n",
              "      <td>19.0</td>\n",
              "      <td>1</td>\n",
              "      <td>1</td>\n",
              "      <td>36.7500</td>\n",
              "      <td>S</td>\n",
              "      <td>Second</td>\n",
              "      <td>man</td>\n",
              "      <td>True</td>\n",
              "      <td>NaN</td>\n",
              "      <td>Southampton</td>\n",
              "      <td>no</td>\n",
              "      <td>False</td>\n",
              "    </tr>\n",
              "    <tr>\n",
              "      <th>374</th>\n",
              "      <td>0</td>\n",
              "      <td>3</td>\n",
              "      <td>female</td>\n",
              "      <td>3.0</td>\n",
              "      <td>3</td>\n",
              "      <td>1</td>\n",
              "      <td>21.0750</td>\n",
              "      <td>S</td>\n",
              "      <td>Third</td>\n",
              "      <td>child</td>\n",
              "      <td>False</td>\n",
              "      <td>NaN</td>\n",
              "      <td>Southampton</td>\n",
              "      <td>no</td>\n",
              "      <td>False</td>\n",
              "    </tr>\n",
              "    <tr>\n",
              "      <th>738</th>\n",
              "      <td>0</td>\n",
              "      <td>3</td>\n",
              "      <td>male</td>\n",
              "      <td>NaN</td>\n",
              "      <td>0</td>\n",
              "      <td>0</td>\n",
              "      <td>7.8958</td>\n",
              "      <td>S</td>\n",
              "      <td>Third</td>\n",
              "      <td>man</td>\n",
              "      <td>True</td>\n",
              "      <td>NaN</td>\n",
              "      <td>Southampton</td>\n",
              "      <td>no</td>\n",
              "      <td>True</td>\n",
              "    </tr>\n",
              "    <tr>\n",
              "      <th>715</th>\n",
              "      <td>0</td>\n",
              "      <td>3</td>\n",
              "      <td>male</td>\n",
              "      <td>19.0</td>\n",
              "      <td>0</td>\n",
              "      <td>0</td>\n",
              "      <td>7.6500</td>\n",
              "      <td>S</td>\n",
              "      <td>Third</td>\n",
              "      <td>man</td>\n",
              "      <td>True</td>\n",
              "      <td>F</td>\n",
              "      <td>Southampton</td>\n",
              "      <td>no</td>\n",
              "      <td>True</td>\n",
              "    </tr>\n",
              "    <tr>\n",
              "      <th>630</th>\n",
              "      <td>1</td>\n",
              "      <td>1</td>\n",
              "      <td>male</td>\n",
              "      <td>80.0</td>\n",
              "      <td>0</td>\n",
              "      <td>0</td>\n",
              "      <td>30.0000</td>\n",
              "      <td>S</td>\n",
              "      <td>First</td>\n",
              "      <td>man</td>\n",
              "      <td>True</td>\n",
              "      <td>A</td>\n",
              "      <td>Southampton</td>\n",
              "      <td>yes</td>\n",
              "      <td>True</td>\n",
              "    </tr>\n",
              "  </tbody>\n",
              "</table>\n",
              "</div>"
            ],
            "text/plain": [
              "     survived  pclass     sex   age  ...  deck  embark_town  alive  alone\n",
              "145         0       2    male  19.0  ...   NaN  Southampton     no  False\n",
              "374         0       3  female   3.0  ...   NaN  Southampton     no  False\n",
              "738         0       3    male   NaN  ...   NaN  Southampton     no   True\n",
              "715         0       3    male  19.0  ...     F  Southampton     no   True\n",
              "630         1       1    male  80.0  ...     A  Southampton    yes   True\n",
              "\n",
              "[5 rows x 15 columns]"
            ]
          },
          "metadata": {},
          "execution_count": 79
        }
      ]
    },
    {
      "cell_type": "markdown",
      "metadata": {
        "id": "ePn6AKK5dDek"
      },
      "source": [
        "<img src='https://ifh.cc/g/IGvnbQ.jpg' border='0'>"
      ]
    },
    {
      "cell_type": "markdown",
      "metadata": {
        "id": "NUl3T8GIMxBp"
      },
      "source": [
        "# 🌈 끝 🌈\n",
        "\n",
        "<img src='https://ifh.cc/g/aT2woP.png' width = \"500\" border='0'>\n",
        "\n",
        "\n",
        " 이렇게 **데이터 시각화와 데이터 전처리**에 대해서 배웠습니다  \n",
        "여러분의 표정이 보이는 듯도 하는데요 🙉🙈🤯🤮  \n",
        "\n",
        "특히 오늘 배운 전처리를 통해서 다음주에 본격적인 '머신러닝'을 돌려볼 것입니다.\n",
        "\n",
        "<br/>\n",
        "\n",
        "다음 수업엔 **재밌는 실습을 통해서** 오늘 배운 내용을 복습하고 또 머신러닝 모델에 대해서 배워보도록 하겠습니다.\n",
        "\n",
        "많이 기대해주세요~😍😍😍"
      ]
    },
    {
      "cell_type": "markdown",
      "metadata": {
        "id": "071Bl88-MxBt"
      },
      "source": [
        "<img src='https://ifh.cc/g/VfqO4P.jpg' border='0'>"
      ]
    },
    {
      "cell_type": "markdown",
      "metadata": {
        "id": "qaPDTG-q7mwT"
      },
      "source": [
        "</br>"
      ]
    }
  ]
}