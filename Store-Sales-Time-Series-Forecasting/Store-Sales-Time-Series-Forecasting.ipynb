{
 "cells": [
  {
   "cell_type": "code",
   "execution_count": null,
   "id": "619b9ed0",
   "metadata": {},
   "outputs": [],
   "source": [
    "# Importing the library\n",
    "import pandas as pd\n",
    "import numpy as np\n",
    "import calendar\n",
    "\n",
    "import plotly.express as px\n",
    "from plotly.subplots import make_subplots\n",
    "import plotly.figure_factory as ff\n",
    "import plotly.offline as offline\n",
    "import plotly.graph_objs as go\n",
    "offline.init_notebook_mode(connected = True)"
   ]
  },
  {
   "cell_type": "code",
   "execution_count": null,
   "id": "724f7f35",
   "metadata": {},
   "outputs": [],
   "source": [
    "fig=go.Figure()\n",
    "fig.add_trace(go.Scatter(\n",
    "    x=[0, 1, 2, 3],\n",
    "    y=[1.6, 1.6, 1.6, 1.6],\n",
    "    mode='text',\n",
    "    text=[\"<span style='font-size:33px'><b>54</b></span>\",\n",
    "          \"<span style='font-size:33px'><b>33</b></span>\",\n",
    "          \"<span style='font-size:33px'><b>16</b></span>\",\n",
    "          \"<span style='font-size:33px'><b>56</b></span>\"],\n",
    "    textposition=\"bottom center\"\n",
    "))\n",
    "fig.add_trace(go.Scatter(\n",
    "    x=[0, 1, 2, 3],\n",
    "    y=[1.1, 1.1, 1.1, 1.1],\n",
    "    mode='text',\n",
    "    text=[\"Stores\", \"Products\", \"States\", \"Months\"],\n",
    "    textposition=\"bottom center\"\n",
    "))\n",
    "fig.add_hline(y=2.2, line_width=5, line_color='gray')\n",
    "fig.add_hline(y=0.3, line_width=3, line_color='gray')\n",
    "fig.update_yaxes(visible=False)\n",
    "fig.update_xaxes(visible=False)\n",
    "fig.update_layout(showlegend=False, height=300, width=700,\n",
    "                  title='Store Sales Summary', title_x=0.5, title_y=0.9,\n",
    "                  xaxis_range=[-0.5, 3.6], yaxis_range=[0.2, 2.2],\n",
    "                  plot_bgcolor='#fafafa', paper_bgcolor='#fafafa',\n",
    "                  font=dict(size=23, color='#323232'),\n",
    "                  title_font=dict(size=35, color='#222'),\n",
    "                  margin=dict(t=90, l=70, b=0, r=70),\n",
    ")"
   ]
  },
  {
   "cell_type": "code",
   "execution_count": null,
   "id": "ea3cd1f8",
   "metadata": {},
   "outputs": [],
   "source": []
  }
 ],
 "metadata": {
  "kernelspec": {
   "display_name": "Python 3 (ipykernel)",
   "language": "python",
   "name": "python3"
  },
  "language_info": {
   "codemirror_mode": {
    "name": "ipython",
    "version": 3
   },
   "file_extension": ".py",
   "mimetype": "text/x-python",
   "name": "python",
   "nbconvert_exporter": "python",
   "pygments_lexer": "ipython3",
   "version": "3.9.7"
  }
 },
 "nbformat": 4,
 "nbformat_minor": 5
}
